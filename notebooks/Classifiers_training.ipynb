{
  "nbformat": 4,
  "nbformat_minor": 0,
  "metadata": {
    "colab": {
      "provenance": []
    },
    "kernelspec": {
      "name": "python3",
      "display_name": "Python 3"
    },
    "language_info": {
      "name": "python"
    },
    "accelerator": "GPU",
    "gpuClass": "standard",
    "widgets": {
      "application/vnd.jupyter.widget-state+json": {
        "4e5b640cc46140f39c8ef73bd25039cd": {
          "model_module": "@jupyter-widgets/controls",
          "model_name": "HBoxModel",
          "model_module_version": "1.5.0",
          "state": {
            "_dom_classes": [],
            "_model_module": "@jupyter-widgets/controls",
            "_model_module_version": "1.5.0",
            "_model_name": "HBoxModel",
            "_view_count": null,
            "_view_module": "@jupyter-widgets/controls",
            "_view_module_version": "1.5.0",
            "_view_name": "HBoxView",
            "box_style": "",
            "children": [
              "IPY_MODEL_94dde8d42cc943b591aabbbd5f00258f",
              "IPY_MODEL_32d8c802c6e04099a59307171e47443c",
              "IPY_MODEL_78f5e17c8b12437e9bce5c233d301a9c"
            ],
            "layout": "IPY_MODEL_cbf97edd4a554b9aa26f5fc39d4f487c"
          }
        },
        "94dde8d42cc943b591aabbbd5f00258f": {
          "model_module": "@jupyter-widgets/controls",
          "model_name": "HTMLModel",
          "model_module_version": "1.5.0",
          "state": {
            "_dom_classes": [],
            "_model_module": "@jupyter-widgets/controls",
            "_model_module_version": "1.5.0",
            "_model_name": "HTMLModel",
            "_view_count": null,
            "_view_module": "@jupyter-widgets/controls",
            "_view_module_version": "1.5.0",
            "_view_name": "HTMLView",
            "description": "",
            "description_tooltip": null,
            "layout": "IPY_MODEL_4891dc85f32f412495c019c776bbe432",
            "placeholder": "​",
            "style": "IPY_MODEL_71c02873f14c49f0bab6a7386f947f82",
            "value": "Downloading: 100%"
          }
        },
        "32d8c802c6e04099a59307171e47443c": {
          "model_module": "@jupyter-widgets/controls",
          "model_name": "FloatProgressModel",
          "model_module_version": "1.5.0",
          "state": {
            "_dom_classes": [],
            "_model_module": "@jupyter-widgets/controls",
            "_model_module_version": "1.5.0",
            "_model_name": "FloatProgressModel",
            "_view_count": null,
            "_view_module": "@jupyter-widgets/controls",
            "_view_module_version": "1.5.0",
            "_view_name": "ProgressView",
            "bar_style": "success",
            "description": "",
            "description_tooltip": null,
            "layout": "IPY_MODEL_833b4fe7d5bc49a888ccab9b63aefdf5",
            "max": 231508,
            "min": 0,
            "orientation": "horizontal",
            "style": "IPY_MODEL_608e11452d924a478b90179627af450b",
            "value": 231508
          }
        },
        "78f5e17c8b12437e9bce5c233d301a9c": {
          "model_module": "@jupyter-widgets/controls",
          "model_name": "HTMLModel",
          "model_module_version": "1.5.0",
          "state": {
            "_dom_classes": [],
            "_model_module": "@jupyter-widgets/controls",
            "_model_module_version": "1.5.0",
            "_model_name": "HTMLModel",
            "_view_count": null,
            "_view_module": "@jupyter-widgets/controls",
            "_view_module_version": "1.5.0",
            "_view_name": "HTMLView",
            "description": "",
            "description_tooltip": null,
            "layout": "IPY_MODEL_bcc77ffe87b44b8981b3824fb921d025",
            "placeholder": "​",
            "style": "IPY_MODEL_95719f879bb24496b2825233dc38225e",
            "value": " 232k/232k [00:00&lt;00:00, 1.05MB/s]"
          }
        },
        "cbf97edd4a554b9aa26f5fc39d4f487c": {
          "model_module": "@jupyter-widgets/base",
          "model_name": "LayoutModel",
          "model_module_version": "1.2.0",
          "state": {
            "_model_module": "@jupyter-widgets/base",
            "_model_module_version": "1.2.0",
            "_model_name": "LayoutModel",
            "_view_count": null,
            "_view_module": "@jupyter-widgets/base",
            "_view_module_version": "1.2.0",
            "_view_name": "LayoutView",
            "align_content": null,
            "align_items": null,
            "align_self": null,
            "border": null,
            "bottom": null,
            "display": null,
            "flex": null,
            "flex_flow": null,
            "grid_area": null,
            "grid_auto_columns": null,
            "grid_auto_flow": null,
            "grid_auto_rows": null,
            "grid_column": null,
            "grid_gap": null,
            "grid_row": null,
            "grid_template_areas": null,
            "grid_template_columns": null,
            "grid_template_rows": null,
            "height": null,
            "justify_content": null,
            "justify_items": null,
            "left": null,
            "margin": null,
            "max_height": null,
            "max_width": null,
            "min_height": null,
            "min_width": null,
            "object_fit": null,
            "object_position": null,
            "order": null,
            "overflow": null,
            "overflow_x": null,
            "overflow_y": null,
            "padding": null,
            "right": null,
            "top": null,
            "visibility": null,
            "width": null
          }
        },
        "4891dc85f32f412495c019c776bbe432": {
          "model_module": "@jupyter-widgets/base",
          "model_name": "LayoutModel",
          "model_module_version": "1.2.0",
          "state": {
            "_model_module": "@jupyter-widgets/base",
            "_model_module_version": "1.2.0",
            "_model_name": "LayoutModel",
            "_view_count": null,
            "_view_module": "@jupyter-widgets/base",
            "_view_module_version": "1.2.0",
            "_view_name": "LayoutView",
            "align_content": null,
            "align_items": null,
            "align_self": null,
            "border": null,
            "bottom": null,
            "display": null,
            "flex": null,
            "flex_flow": null,
            "grid_area": null,
            "grid_auto_columns": null,
            "grid_auto_flow": null,
            "grid_auto_rows": null,
            "grid_column": null,
            "grid_gap": null,
            "grid_row": null,
            "grid_template_areas": null,
            "grid_template_columns": null,
            "grid_template_rows": null,
            "height": null,
            "justify_content": null,
            "justify_items": null,
            "left": null,
            "margin": null,
            "max_height": null,
            "max_width": null,
            "min_height": null,
            "min_width": null,
            "object_fit": null,
            "object_position": null,
            "order": null,
            "overflow": null,
            "overflow_x": null,
            "overflow_y": null,
            "padding": null,
            "right": null,
            "top": null,
            "visibility": null,
            "width": null
          }
        },
        "71c02873f14c49f0bab6a7386f947f82": {
          "model_module": "@jupyter-widgets/controls",
          "model_name": "DescriptionStyleModel",
          "model_module_version": "1.5.0",
          "state": {
            "_model_module": "@jupyter-widgets/controls",
            "_model_module_version": "1.5.0",
            "_model_name": "DescriptionStyleModel",
            "_view_count": null,
            "_view_module": "@jupyter-widgets/base",
            "_view_module_version": "1.2.0",
            "_view_name": "StyleView",
            "description_width": ""
          }
        },
        "833b4fe7d5bc49a888ccab9b63aefdf5": {
          "model_module": "@jupyter-widgets/base",
          "model_name": "LayoutModel",
          "model_module_version": "1.2.0",
          "state": {
            "_model_module": "@jupyter-widgets/base",
            "_model_module_version": "1.2.0",
            "_model_name": "LayoutModel",
            "_view_count": null,
            "_view_module": "@jupyter-widgets/base",
            "_view_module_version": "1.2.0",
            "_view_name": "LayoutView",
            "align_content": null,
            "align_items": null,
            "align_self": null,
            "border": null,
            "bottom": null,
            "display": null,
            "flex": null,
            "flex_flow": null,
            "grid_area": null,
            "grid_auto_columns": null,
            "grid_auto_flow": null,
            "grid_auto_rows": null,
            "grid_column": null,
            "grid_gap": null,
            "grid_row": null,
            "grid_template_areas": null,
            "grid_template_columns": null,
            "grid_template_rows": null,
            "height": null,
            "justify_content": null,
            "justify_items": null,
            "left": null,
            "margin": null,
            "max_height": null,
            "max_width": null,
            "min_height": null,
            "min_width": null,
            "object_fit": null,
            "object_position": null,
            "order": null,
            "overflow": null,
            "overflow_x": null,
            "overflow_y": null,
            "padding": null,
            "right": null,
            "top": null,
            "visibility": null,
            "width": null
          }
        },
        "608e11452d924a478b90179627af450b": {
          "model_module": "@jupyter-widgets/controls",
          "model_name": "ProgressStyleModel",
          "model_module_version": "1.5.0",
          "state": {
            "_model_module": "@jupyter-widgets/controls",
            "_model_module_version": "1.5.0",
            "_model_name": "ProgressStyleModel",
            "_view_count": null,
            "_view_module": "@jupyter-widgets/base",
            "_view_module_version": "1.2.0",
            "_view_name": "StyleView",
            "bar_color": null,
            "description_width": ""
          }
        },
        "bcc77ffe87b44b8981b3824fb921d025": {
          "model_module": "@jupyter-widgets/base",
          "model_name": "LayoutModel",
          "model_module_version": "1.2.0",
          "state": {
            "_model_module": "@jupyter-widgets/base",
            "_model_module_version": "1.2.0",
            "_model_name": "LayoutModel",
            "_view_count": null,
            "_view_module": "@jupyter-widgets/base",
            "_view_module_version": "1.2.0",
            "_view_name": "LayoutView",
            "align_content": null,
            "align_items": null,
            "align_self": null,
            "border": null,
            "bottom": null,
            "display": null,
            "flex": null,
            "flex_flow": null,
            "grid_area": null,
            "grid_auto_columns": null,
            "grid_auto_flow": null,
            "grid_auto_rows": null,
            "grid_column": null,
            "grid_gap": null,
            "grid_row": null,
            "grid_template_areas": null,
            "grid_template_columns": null,
            "grid_template_rows": null,
            "height": null,
            "justify_content": null,
            "justify_items": null,
            "left": null,
            "margin": null,
            "max_height": null,
            "max_width": null,
            "min_height": null,
            "min_width": null,
            "object_fit": null,
            "object_position": null,
            "order": null,
            "overflow": null,
            "overflow_x": null,
            "overflow_y": null,
            "padding": null,
            "right": null,
            "top": null,
            "visibility": null,
            "width": null
          }
        },
        "95719f879bb24496b2825233dc38225e": {
          "model_module": "@jupyter-widgets/controls",
          "model_name": "DescriptionStyleModel",
          "model_module_version": "1.5.0",
          "state": {
            "_model_module": "@jupyter-widgets/controls",
            "_model_module_version": "1.5.0",
            "_model_name": "DescriptionStyleModel",
            "_view_count": null,
            "_view_module": "@jupyter-widgets/base",
            "_view_module_version": "1.2.0",
            "_view_name": "StyleView",
            "description_width": ""
          }
        },
        "a3bf3621e79541d4a4473fbb4a32dfdf": {
          "model_module": "@jupyter-widgets/controls",
          "model_name": "HBoxModel",
          "model_module_version": "1.5.0",
          "state": {
            "_dom_classes": [],
            "_model_module": "@jupyter-widgets/controls",
            "_model_module_version": "1.5.0",
            "_model_name": "HBoxModel",
            "_view_count": null,
            "_view_module": "@jupyter-widgets/controls",
            "_view_module_version": "1.5.0",
            "_view_name": "HBoxView",
            "box_style": "",
            "children": [
              "IPY_MODEL_c37c15a4caf446dba54cbcd874177f0a",
              "IPY_MODEL_e1e87433ce1946d9bb7fe0a7f8088fce",
              "IPY_MODEL_35ce795a37874ea191d734b148e5bffc"
            ],
            "layout": "IPY_MODEL_12648b5e439d4e489e0b2dcd4edfd4b6"
          }
        },
        "c37c15a4caf446dba54cbcd874177f0a": {
          "model_module": "@jupyter-widgets/controls",
          "model_name": "HTMLModel",
          "model_module_version": "1.5.0",
          "state": {
            "_dom_classes": [],
            "_model_module": "@jupyter-widgets/controls",
            "_model_module_version": "1.5.0",
            "_model_name": "HTMLModel",
            "_view_count": null,
            "_view_module": "@jupyter-widgets/controls",
            "_view_module_version": "1.5.0",
            "_view_name": "HTMLView",
            "description": "",
            "description_tooltip": null,
            "layout": "IPY_MODEL_1abcf56bf36742289d3b0d1a8740eadf",
            "placeholder": "​",
            "style": "IPY_MODEL_48fa078f9f544568a54e9efeae1f6db0",
            "value": "Downloading: 100%"
          }
        },
        "e1e87433ce1946d9bb7fe0a7f8088fce": {
          "model_module": "@jupyter-widgets/controls",
          "model_name": "FloatProgressModel",
          "model_module_version": "1.5.0",
          "state": {
            "_dom_classes": [],
            "_model_module": "@jupyter-widgets/controls",
            "_model_module_version": "1.5.0",
            "_model_name": "FloatProgressModel",
            "_view_count": null,
            "_view_module": "@jupyter-widgets/controls",
            "_view_module_version": "1.5.0",
            "_view_name": "ProgressView",
            "bar_style": "success",
            "description": "",
            "description_tooltip": null,
            "layout": "IPY_MODEL_86e54138c50c45d195f7a90620b3aa92",
            "max": 28,
            "min": 0,
            "orientation": "horizontal",
            "style": "IPY_MODEL_2de88c42ac894f5789e3263e5861b63e",
            "value": 28
          }
        },
        "35ce795a37874ea191d734b148e5bffc": {
          "model_module": "@jupyter-widgets/controls",
          "model_name": "HTMLModel",
          "model_module_version": "1.5.0",
          "state": {
            "_dom_classes": [],
            "_model_module": "@jupyter-widgets/controls",
            "_model_module_version": "1.5.0",
            "_model_name": "HTMLModel",
            "_view_count": null,
            "_view_module": "@jupyter-widgets/controls",
            "_view_module_version": "1.5.0",
            "_view_name": "HTMLView",
            "description": "",
            "description_tooltip": null,
            "layout": "IPY_MODEL_4404e6bb5d2b4b299813d332ff01962f",
            "placeholder": "​",
            "style": "IPY_MODEL_d64ec8b6722248d1b49e7fd16ed738fa",
            "value": " 28.0/28.0 [00:00&lt;00:00, 806B/s]"
          }
        },
        "12648b5e439d4e489e0b2dcd4edfd4b6": {
          "model_module": "@jupyter-widgets/base",
          "model_name": "LayoutModel",
          "model_module_version": "1.2.0",
          "state": {
            "_model_module": "@jupyter-widgets/base",
            "_model_module_version": "1.2.0",
            "_model_name": "LayoutModel",
            "_view_count": null,
            "_view_module": "@jupyter-widgets/base",
            "_view_module_version": "1.2.0",
            "_view_name": "LayoutView",
            "align_content": null,
            "align_items": null,
            "align_self": null,
            "border": null,
            "bottom": null,
            "display": null,
            "flex": null,
            "flex_flow": null,
            "grid_area": null,
            "grid_auto_columns": null,
            "grid_auto_flow": null,
            "grid_auto_rows": null,
            "grid_column": null,
            "grid_gap": null,
            "grid_row": null,
            "grid_template_areas": null,
            "grid_template_columns": null,
            "grid_template_rows": null,
            "height": null,
            "justify_content": null,
            "justify_items": null,
            "left": null,
            "margin": null,
            "max_height": null,
            "max_width": null,
            "min_height": null,
            "min_width": null,
            "object_fit": null,
            "object_position": null,
            "order": null,
            "overflow": null,
            "overflow_x": null,
            "overflow_y": null,
            "padding": null,
            "right": null,
            "top": null,
            "visibility": null,
            "width": null
          }
        },
        "1abcf56bf36742289d3b0d1a8740eadf": {
          "model_module": "@jupyter-widgets/base",
          "model_name": "LayoutModel",
          "model_module_version": "1.2.0",
          "state": {
            "_model_module": "@jupyter-widgets/base",
            "_model_module_version": "1.2.0",
            "_model_name": "LayoutModel",
            "_view_count": null,
            "_view_module": "@jupyter-widgets/base",
            "_view_module_version": "1.2.0",
            "_view_name": "LayoutView",
            "align_content": null,
            "align_items": null,
            "align_self": null,
            "border": null,
            "bottom": null,
            "display": null,
            "flex": null,
            "flex_flow": null,
            "grid_area": null,
            "grid_auto_columns": null,
            "grid_auto_flow": null,
            "grid_auto_rows": null,
            "grid_column": null,
            "grid_gap": null,
            "grid_row": null,
            "grid_template_areas": null,
            "grid_template_columns": null,
            "grid_template_rows": null,
            "height": null,
            "justify_content": null,
            "justify_items": null,
            "left": null,
            "margin": null,
            "max_height": null,
            "max_width": null,
            "min_height": null,
            "min_width": null,
            "object_fit": null,
            "object_position": null,
            "order": null,
            "overflow": null,
            "overflow_x": null,
            "overflow_y": null,
            "padding": null,
            "right": null,
            "top": null,
            "visibility": null,
            "width": null
          }
        },
        "48fa078f9f544568a54e9efeae1f6db0": {
          "model_module": "@jupyter-widgets/controls",
          "model_name": "DescriptionStyleModel",
          "model_module_version": "1.5.0",
          "state": {
            "_model_module": "@jupyter-widgets/controls",
            "_model_module_version": "1.5.0",
            "_model_name": "DescriptionStyleModel",
            "_view_count": null,
            "_view_module": "@jupyter-widgets/base",
            "_view_module_version": "1.2.0",
            "_view_name": "StyleView",
            "description_width": ""
          }
        },
        "86e54138c50c45d195f7a90620b3aa92": {
          "model_module": "@jupyter-widgets/base",
          "model_name": "LayoutModel",
          "model_module_version": "1.2.0",
          "state": {
            "_model_module": "@jupyter-widgets/base",
            "_model_module_version": "1.2.0",
            "_model_name": "LayoutModel",
            "_view_count": null,
            "_view_module": "@jupyter-widgets/base",
            "_view_module_version": "1.2.0",
            "_view_name": "LayoutView",
            "align_content": null,
            "align_items": null,
            "align_self": null,
            "border": null,
            "bottom": null,
            "display": null,
            "flex": null,
            "flex_flow": null,
            "grid_area": null,
            "grid_auto_columns": null,
            "grid_auto_flow": null,
            "grid_auto_rows": null,
            "grid_column": null,
            "grid_gap": null,
            "grid_row": null,
            "grid_template_areas": null,
            "grid_template_columns": null,
            "grid_template_rows": null,
            "height": null,
            "justify_content": null,
            "justify_items": null,
            "left": null,
            "margin": null,
            "max_height": null,
            "max_width": null,
            "min_height": null,
            "min_width": null,
            "object_fit": null,
            "object_position": null,
            "order": null,
            "overflow": null,
            "overflow_x": null,
            "overflow_y": null,
            "padding": null,
            "right": null,
            "top": null,
            "visibility": null,
            "width": null
          }
        },
        "2de88c42ac894f5789e3263e5861b63e": {
          "model_module": "@jupyter-widgets/controls",
          "model_name": "ProgressStyleModel",
          "model_module_version": "1.5.0",
          "state": {
            "_model_module": "@jupyter-widgets/controls",
            "_model_module_version": "1.5.0",
            "_model_name": "ProgressStyleModel",
            "_view_count": null,
            "_view_module": "@jupyter-widgets/base",
            "_view_module_version": "1.2.0",
            "_view_name": "StyleView",
            "bar_color": null,
            "description_width": ""
          }
        },
        "4404e6bb5d2b4b299813d332ff01962f": {
          "model_module": "@jupyter-widgets/base",
          "model_name": "LayoutModel",
          "model_module_version": "1.2.0",
          "state": {
            "_model_module": "@jupyter-widgets/base",
            "_model_module_version": "1.2.0",
            "_model_name": "LayoutModel",
            "_view_count": null,
            "_view_module": "@jupyter-widgets/base",
            "_view_module_version": "1.2.0",
            "_view_name": "LayoutView",
            "align_content": null,
            "align_items": null,
            "align_self": null,
            "border": null,
            "bottom": null,
            "display": null,
            "flex": null,
            "flex_flow": null,
            "grid_area": null,
            "grid_auto_columns": null,
            "grid_auto_flow": null,
            "grid_auto_rows": null,
            "grid_column": null,
            "grid_gap": null,
            "grid_row": null,
            "grid_template_areas": null,
            "grid_template_columns": null,
            "grid_template_rows": null,
            "height": null,
            "justify_content": null,
            "justify_items": null,
            "left": null,
            "margin": null,
            "max_height": null,
            "max_width": null,
            "min_height": null,
            "min_width": null,
            "object_fit": null,
            "object_position": null,
            "order": null,
            "overflow": null,
            "overflow_x": null,
            "overflow_y": null,
            "padding": null,
            "right": null,
            "top": null,
            "visibility": null,
            "width": null
          }
        },
        "d64ec8b6722248d1b49e7fd16ed738fa": {
          "model_module": "@jupyter-widgets/controls",
          "model_name": "DescriptionStyleModel",
          "model_module_version": "1.5.0",
          "state": {
            "_model_module": "@jupyter-widgets/controls",
            "_model_module_version": "1.5.0",
            "_model_name": "DescriptionStyleModel",
            "_view_count": null,
            "_view_module": "@jupyter-widgets/base",
            "_view_module_version": "1.2.0",
            "_view_name": "StyleView",
            "description_width": ""
          }
        },
        "6dad0e9b343148818d83ca4d265a0093": {
          "model_module": "@jupyter-widgets/controls",
          "model_name": "HBoxModel",
          "model_module_version": "1.5.0",
          "state": {
            "_dom_classes": [],
            "_model_module": "@jupyter-widgets/controls",
            "_model_module_version": "1.5.0",
            "_model_name": "HBoxModel",
            "_view_count": null,
            "_view_module": "@jupyter-widgets/controls",
            "_view_module_version": "1.5.0",
            "_view_name": "HBoxView",
            "box_style": "",
            "children": [
              "IPY_MODEL_a258516b18664e2b98a94c8ccfa1416c",
              "IPY_MODEL_9c868b1f91c9461aa2c481a006ffe08f",
              "IPY_MODEL_021065ccbd0a476eaeeb6e960e817b07"
            ],
            "layout": "IPY_MODEL_00b926fe6f3245fda9d6e1e7a80c7e55"
          }
        },
        "a258516b18664e2b98a94c8ccfa1416c": {
          "model_module": "@jupyter-widgets/controls",
          "model_name": "HTMLModel",
          "model_module_version": "1.5.0",
          "state": {
            "_dom_classes": [],
            "_model_module": "@jupyter-widgets/controls",
            "_model_module_version": "1.5.0",
            "_model_name": "HTMLModel",
            "_view_count": null,
            "_view_module": "@jupyter-widgets/controls",
            "_view_module_version": "1.5.0",
            "_view_name": "HTMLView",
            "description": "",
            "description_tooltip": null,
            "layout": "IPY_MODEL_4441072cda8d4465a28da50a0bd236eb",
            "placeholder": "​",
            "style": "IPY_MODEL_e543d49c94804ee7911997244dffc5b4",
            "value": "Downloading: 100%"
          }
        },
        "9c868b1f91c9461aa2c481a006ffe08f": {
          "model_module": "@jupyter-widgets/controls",
          "model_name": "FloatProgressModel",
          "model_module_version": "1.5.0",
          "state": {
            "_dom_classes": [],
            "_model_module": "@jupyter-widgets/controls",
            "_model_module_version": "1.5.0",
            "_model_name": "FloatProgressModel",
            "_view_count": null,
            "_view_module": "@jupyter-widgets/controls",
            "_view_module_version": "1.5.0",
            "_view_name": "ProgressView",
            "bar_style": "success",
            "description": "",
            "description_tooltip": null,
            "layout": "IPY_MODEL_6e212e800be04fef9d5629e07428ea0b",
            "max": 483,
            "min": 0,
            "orientation": "horizontal",
            "style": "IPY_MODEL_bec77e3c801e450ba1395b97f0e64691",
            "value": 483
          }
        },
        "021065ccbd0a476eaeeb6e960e817b07": {
          "model_module": "@jupyter-widgets/controls",
          "model_name": "HTMLModel",
          "model_module_version": "1.5.0",
          "state": {
            "_dom_classes": [],
            "_model_module": "@jupyter-widgets/controls",
            "_model_module_version": "1.5.0",
            "_model_name": "HTMLModel",
            "_view_count": null,
            "_view_module": "@jupyter-widgets/controls",
            "_view_module_version": "1.5.0",
            "_view_name": "HTMLView",
            "description": "",
            "description_tooltip": null,
            "layout": "IPY_MODEL_849877262b084f608d91035359d9058c",
            "placeholder": "​",
            "style": "IPY_MODEL_16677e7ccd054e52ae0e6f35b8f93ddd",
            "value": " 483/483 [00:00&lt;00:00, 13.0kB/s]"
          }
        },
        "00b926fe6f3245fda9d6e1e7a80c7e55": {
          "model_module": "@jupyter-widgets/base",
          "model_name": "LayoutModel",
          "model_module_version": "1.2.0",
          "state": {
            "_model_module": "@jupyter-widgets/base",
            "_model_module_version": "1.2.0",
            "_model_name": "LayoutModel",
            "_view_count": null,
            "_view_module": "@jupyter-widgets/base",
            "_view_module_version": "1.2.0",
            "_view_name": "LayoutView",
            "align_content": null,
            "align_items": null,
            "align_self": null,
            "border": null,
            "bottom": null,
            "display": null,
            "flex": null,
            "flex_flow": null,
            "grid_area": null,
            "grid_auto_columns": null,
            "grid_auto_flow": null,
            "grid_auto_rows": null,
            "grid_column": null,
            "grid_gap": null,
            "grid_row": null,
            "grid_template_areas": null,
            "grid_template_columns": null,
            "grid_template_rows": null,
            "height": null,
            "justify_content": null,
            "justify_items": null,
            "left": null,
            "margin": null,
            "max_height": null,
            "max_width": null,
            "min_height": null,
            "min_width": null,
            "object_fit": null,
            "object_position": null,
            "order": null,
            "overflow": null,
            "overflow_x": null,
            "overflow_y": null,
            "padding": null,
            "right": null,
            "top": null,
            "visibility": null,
            "width": null
          }
        },
        "4441072cda8d4465a28da50a0bd236eb": {
          "model_module": "@jupyter-widgets/base",
          "model_name": "LayoutModel",
          "model_module_version": "1.2.0",
          "state": {
            "_model_module": "@jupyter-widgets/base",
            "_model_module_version": "1.2.0",
            "_model_name": "LayoutModel",
            "_view_count": null,
            "_view_module": "@jupyter-widgets/base",
            "_view_module_version": "1.2.0",
            "_view_name": "LayoutView",
            "align_content": null,
            "align_items": null,
            "align_self": null,
            "border": null,
            "bottom": null,
            "display": null,
            "flex": null,
            "flex_flow": null,
            "grid_area": null,
            "grid_auto_columns": null,
            "grid_auto_flow": null,
            "grid_auto_rows": null,
            "grid_column": null,
            "grid_gap": null,
            "grid_row": null,
            "grid_template_areas": null,
            "grid_template_columns": null,
            "grid_template_rows": null,
            "height": null,
            "justify_content": null,
            "justify_items": null,
            "left": null,
            "margin": null,
            "max_height": null,
            "max_width": null,
            "min_height": null,
            "min_width": null,
            "object_fit": null,
            "object_position": null,
            "order": null,
            "overflow": null,
            "overflow_x": null,
            "overflow_y": null,
            "padding": null,
            "right": null,
            "top": null,
            "visibility": null,
            "width": null
          }
        },
        "e543d49c94804ee7911997244dffc5b4": {
          "model_module": "@jupyter-widgets/controls",
          "model_name": "DescriptionStyleModel",
          "model_module_version": "1.5.0",
          "state": {
            "_model_module": "@jupyter-widgets/controls",
            "_model_module_version": "1.5.0",
            "_model_name": "DescriptionStyleModel",
            "_view_count": null,
            "_view_module": "@jupyter-widgets/base",
            "_view_module_version": "1.2.0",
            "_view_name": "StyleView",
            "description_width": ""
          }
        },
        "6e212e800be04fef9d5629e07428ea0b": {
          "model_module": "@jupyter-widgets/base",
          "model_name": "LayoutModel",
          "model_module_version": "1.2.0",
          "state": {
            "_model_module": "@jupyter-widgets/base",
            "_model_module_version": "1.2.0",
            "_model_name": "LayoutModel",
            "_view_count": null,
            "_view_module": "@jupyter-widgets/base",
            "_view_module_version": "1.2.0",
            "_view_name": "LayoutView",
            "align_content": null,
            "align_items": null,
            "align_self": null,
            "border": null,
            "bottom": null,
            "display": null,
            "flex": null,
            "flex_flow": null,
            "grid_area": null,
            "grid_auto_columns": null,
            "grid_auto_flow": null,
            "grid_auto_rows": null,
            "grid_column": null,
            "grid_gap": null,
            "grid_row": null,
            "grid_template_areas": null,
            "grid_template_columns": null,
            "grid_template_rows": null,
            "height": null,
            "justify_content": null,
            "justify_items": null,
            "left": null,
            "margin": null,
            "max_height": null,
            "max_width": null,
            "min_height": null,
            "min_width": null,
            "object_fit": null,
            "object_position": null,
            "order": null,
            "overflow": null,
            "overflow_x": null,
            "overflow_y": null,
            "padding": null,
            "right": null,
            "top": null,
            "visibility": null,
            "width": null
          }
        },
        "bec77e3c801e450ba1395b97f0e64691": {
          "model_module": "@jupyter-widgets/controls",
          "model_name": "ProgressStyleModel",
          "model_module_version": "1.5.0",
          "state": {
            "_model_module": "@jupyter-widgets/controls",
            "_model_module_version": "1.5.0",
            "_model_name": "ProgressStyleModel",
            "_view_count": null,
            "_view_module": "@jupyter-widgets/base",
            "_view_module_version": "1.2.0",
            "_view_name": "StyleView",
            "bar_color": null,
            "description_width": ""
          }
        },
        "849877262b084f608d91035359d9058c": {
          "model_module": "@jupyter-widgets/base",
          "model_name": "LayoutModel",
          "model_module_version": "1.2.0",
          "state": {
            "_model_module": "@jupyter-widgets/base",
            "_model_module_version": "1.2.0",
            "_model_name": "LayoutModel",
            "_view_count": null,
            "_view_module": "@jupyter-widgets/base",
            "_view_module_version": "1.2.0",
            "_view_name": "LayoutView",
            "align_content": null,
            "align_items": null,
            "align_self": null,
            "border": null,
            "bottom": null,
            "display": null,
            "flex": null,
            "flex_flow": null,
            "grid_area": null,
            "grid_auto_columns": null,
            "grid_auto_flow": null,
            "grid_auto_rows": null,
            "grid_column": null,
            "grid_gap": null,
            "grid_row": null,
            "grid_template_areas": null,
            "grid_template_columns": null,
            "grid_template_rows": null,
            "height": null,
            "justify_content": null,
            "justify_items": null,
            "left": null,
            "margin": null,
            "max_height": null,
            "max_width": null,
            "min_height": null,
            "min_width": null,
            "object_fit": null,
            "object_position": null,
            "order": null,
            "overflow": null,
            "overflow_x": null,
            "overflow_y": null,
            "padding": null,
            "right": null,
            "top": null,
            "visibility": null,
            "width": null
          }
        },
        "16677e7ccd054e52ae0e6f35b8f93ddd": {
          "model_module": "@jupyter-widgets/controls",
          "model_name": "DescriptionStyleModel",
          "model_module_version": "1.5.0",
          "state": {
            "_model_module": "@jupyter-widgets/controls",
            "_model_module_version": "1.5.0",
            "_model_name": "DescriptionStyleModel",
            "_view_count": null,
            "_view_module": "@jupyter-widgets/base",
            "_view_module_version": "1.2.0",
            "_view_name": "StyleView",
            "description_width": ""
          }
        },
        "df38a0e605944540bc602ffc5ceaaefd": {
          "model_module": "@jupyter-widgets/controls",
          "model_name": "HBoxModel",
          "model_module_version": "1.5.0",
          "state": {
            "_dom_classes": [],
            "_model_module": "@jupyter-widgets/controls",
            "_model_module_version": "1.5.0",
            "_model_name": "HBoxModel",
            "_view_count": null,
            "_view_module": "@jupyter-widgets/controls",
            "_view_module_version": "1.5.0",
            "_view_name": "HBoxView",
            "box_style": "",
            "children": [
              "IPY_MODEL_3af5b09b1e3b4e68979919c90847f1a3",
              "IPY_MODEL_bdc378ebd70a431eadc08da2cbf47395",
              "IPY_MODEL_ab0a51d39474413292f2a3c8ed9d31eb"
            ],
            "layout": "IPY_MODEL_1c6e0872010b4f1382c3a507b7ce943d"
          }
        },
        "3af5b09b1e3b4e68979919c90847f1a3": {
          "model_module": "@jupyter-widgets/controls",
          "model_name": "HTMLModel",
          "model_module_version": "1.5.0",
          "state": {
            "_dom_classes": [],
            "_model_module": "@jupyter-widgets/controls",
            "_model_module_version": "1.5.0",
            "_model_name": "HTMLModel",
            "_view_count": null,
            "_view_module": "@jupyter-widgets/controls",
            "_view_module_version": "1.5.0",
            "_view_name": "HTMLView",
            "description": "",
            "description_tooltip": null,
            "layout": "IPY_MODEL_35642bb0bc854fa7b463e2978a7c2b4e",
            "placeholder": "​",
            "style": "IPY_MODEL_4f76fa5104c848c4bdd76b71ea76b5f9",
            "value": "Downloading: 100%"
          }
        },
        "bdc378ebd70a431eadc08da2cbf47395": {
          "model_module": "@jupyter-widgets/controls",
          "model_name": "FloatProgressModel",
          "model_module_version": "1.5.0",
          "state": {
            "_dom_classes": [],
            "_model_module": "@jupyter-widgets/controls",
            "_model_module_version": "1.5.0",
            "_model_name": "FloatProgressModel",
            "_view_count": null,
            "_view_module": "@jupyter-widgets/controls",
            "_view_module_version": "1.5.0",
            "_view_name": "ProgressView",
            "bar_style": "success",
            "description": "",
            "description_tooltip": null,
            "layout": "IPY_MODEL_231c0959948f485293bef53591a299a7",
            "max": 267967963,
            "min": 0,
            "orientation": "horizontal",
            "style": "IPY_MODEL_df721c422a01475ba6aab17419930018",
            "value": 267967963
          }
        },
        "ab0a51d39474413292f2a3c8ed9d31eb": {
          "model_module": "@jupyter-widgets/controls",
          "model_name": "HTMLModel",
          "model_module_version": "1.5.0",
          "state": {
            "_dom_classes": [],
            "_model_module": "@jupyter-widgets/controls",
            "_model_module_version": "1.5.0",
            "_model_name": "HTMLModel",
            "_view_count": null,
            "_view_module": "@jupyter-widgets/controls",
            "_view_module_version": "1.5.0",
            "_view_name": "HTMLView",
            "description": "",
            "description_tooltip": null,
            "layout": "IPY_MODEL_ade356311bb8422ba33fedaee00505a6",
            "placeholder": "​",
            "style": "IPY_MODEL_8b0108904d134bd8bed35912e8616c9f",
            "value": " 268M/268M [00:06&lt;00:00, 57.6MB/s]"
          }
        },
        "1c6e0872010b4f1382c3a507b7ce943d": {
          "model_module": "@jupyter-widgets/base",
          "model_name": "LayoutModel",
          "model_module_version": "1.2.0",
          "state": {
            "_model_module": "@jupyter-widgets/base",
            "_model_module_version": "1.2.0",
            "_model_name": "LayoutModel",
            "_view_count": null,
            "_view_module": "@jupyter-widgets/base",
            "_view_module_version": "1.2.0",
            "_view_name": "LayoutView",
            "align_content": null,
            "align_items": null,
            "align_self": null,
            "border": null,
            "bottom": null,
            "display": null,
            "flex": null,
            "flex_flow": null,
            "grid_area": null,
            "grid_auto_columns": null,
            "grid_auto_flow": null,
            "grid_auto_rows": null,
            "grid_column": null,
            "grid_gap": null,
            "grid_row": null,
            "grid_template_areas": null,
            "grid_template_columns": null,
            "grid_template_rows": null,
            "height": null,
            "justify_content": null,
            "justify_items": null,
            "left": null,
            "margin": null,
            "max_height": null,
            "max_width": null,
            "min_height": null,
            "min_width": null,
            "object_fit": null,
            "object_position": null,
            "order": null,
            "overflow": null,
            "overflow_x": null,
            "overflow_y": null,
            "padding": null,
            "right": null,
            "top": null,
            "visibility": null,
            "width": null
          }
        },
        "35642bb0bc854fa7b463e2978a7c2b4e": {
          "model_module": "@jupyter-widgets/base",
          "model_name": "LayoutModel",
          "model_module_version": "1.2.0",
          "state": {
            "_model_module": "@jupyter-widgets/base",
            "_model_module_version": "1.2.0",
            "_model_name": "LayoutModel",
            "_view_count": null,
            "_view_module": "@jupyter-widgets/base",
            "_view_module_version": "1.2.0",
            "_view_name": "LayoutView",
            "align_content": null,
            "align_items": null,
            "align_self": null,
            "border": null,
            "bottom": null,
            "display": null,
            "flex": null,
            "flex_flow": null,
            "grid_area": null,
            "grid_auto_columns": null,
            "grid_auto_flow": null,
            "grid_auto_rows": null,
            "grid_column": null,
            "grid_gap": null,
            "grid_row": null,
            "grid_template_areas": null,
            "grid_template_columns": null,
            "grid_template_rows": null,
            "height": null,
            "justify_content": null,
            "justify_items": null,
            "left": null,
            "margin": null,
            "max_height": null,
            "max_width": null,
            "min_height": null,
            "min_width": null,
            "object_fit": null,
            "object_position": null,
            "order": null,
            "overflow": null,
            "overflow_x": null,
            "overflow_y": null,
            "padding": null,
            "right": null,
            "top": null,
            "visibility": null,
            "width": null
          }
        },
        "4f76fa5104c848c4bdd76b71ea76b5f9": {
          "model_module": "@jupyter-widgets/controls",
          "model_name": "DescriptionStyleModel",
          "model_module_version": "1.5.0",
          "state": {
            "_model_module": "@jupyter-widgets/controls",
            "_model_module_version": "1.5.0",
            "_model_name": "DescriptionStyleModel",
            "_view_count": null,
            "_view_module": "@jupyter-widgets/base",
            "_view_module_version": "1.2.0",
            "_view_name": "StyleView",
            "description_width": ""
          }
        },
        "231c0959948f485293bef53591a299a7": {
          "model_module": "@jupyter-widgets/base",
          "model_name": "LayoutModel",
          "model_module_version": "1.2.0",
          "state": {
            "_model_module": "@jupyter-widgets/base",
            "_model_module_version": "1.2.0",
            "_model_name": "LayoutModel",
            "_view_count": null,
            "_view_module": "@jupyter-widgets/base",
            "_view_module_version": "1.2.0",
            "_view_name": "LayoutView",
            "align_content": null,
            "align_items": null,
            "align_self": null,
            "border": null,
            "bottom": null,
            "display": null,
            "flex": null,
            "flex_flow": null,
            "grid_area": null,
            "grid_auto_columns": null,
            "grid_auto_flow": null,
            "grid_auto_rows": null,
            "grid_column": null,
            "grid_gap": null,
            "grid_row": null,
            "grid_template_areas": null,
            "grid_template_columns": null,
            "grid_template_rows": null,
            "height": null,
            "justify_content": null,
            "justify_items": null,
            "left": null,
            "margin": null,
            "max_height": null,
            "max_width": null,
            "min_height": null,
            "min_width": null,
            "object_fit": null,
            "object_position": null,
            "order": null,
            "overflow": null,
            "overflow_x": null,
            "overflow_y": null,
            "padding": null,
            "right": null,
            "top": null,
            "visibility": null,
            "width": null
          }
        },
        "df721c422a01475ba6aab17419930018": {
          "model_module": "@jupyter-widgets/controls",
          "model_name": "ProgressStyleModel",
          "model_module_version": "1.5.0",
          "state": {
            "_model_module": "@jupyter-widgets/controls",
            "_model_module_version": "1.5.0",
            "_model_name": "ProgressStyleModel",
            "_view_count": null,
            "_view_module": "@jupyter-widgets/base",
            "_view_module_version": "1.2.0",
            "_view_name": "StyleView",
            "bar_color": null,
            "description_width": ""
          }
        },
        "ade356311bb8422ba33fedaee00505a6": {
          "model_module": "@jupyter-widgets/base",
          "model_name": "LayoutModel",
          "model_module_version": "1.2.0",
          "state": {
            "_model_module": "@jupyter-widgets/base",
            "_model_module_version": "1.2.0",
            "_model_name": "LayoutModel",
            "_view_count": null,
            "_view_module": "@jupyter-widgets/base",
            "_view_module_version": "1.2.0",
            "_view_name": "LayoutView",
            "align_content": null,
            "align_items": null,
            "align_self": null,
            "border": null,
            "bottom": null,
            "display": null,
            "flex": null,
            "flex_flow": null,
            "grid_area": null,
            "grid_auto_columns": null,
            "grid_auto_flow": null,
            "grid_auto_rows": null,
            "grid_column": null,
            "grid_gap": null,
            "grid_row": null,
            "grid_template_areas": null,
            "grid_template_columns": null,
            "grid_template_rows": null,
            "height": null,
            "justify_content": null,
            "justify_items": null,
            "left": null,
            "margin": null,
            "max_height": null,
            "max_width": null,
            "min_height": null,
            "min_width": null,
            "object_fit": null,
            "object_position": null,
            "order": null,
            "overflow": null,
            "overflow_x": null,
            "overflow_y": null,
            "padding": null,
            "right": null,
            "top": null,
            "visibility": null,
            "width": null
          }
        },
        "8b0108904d134bd8bed35912e8616c9f": {
          "model_module": "@jupyter-widgets/controls",
          "model_name": "DescriptionStyleModel",
          "model_module_version": "1.5.0",
          "state": {
            "_model_module": "@jupyter-widgets/controls",
            "_model_module_version": "1.5.0",
            "_model_name": "DescriptionStyleModel",
            "_view_count": null,
            "_view_module": "@jupyter-widgets/base",
            "_view_module_version": "1.2.0",
            "_view_name": "StyleView",
            "description_width": ""
          }
        }
      }
    }
  },
  "cells": [
    {
      "cell_type": "code",
      "source": [
        "!pip install transformers"
      ],
      "metadata": {
        "colab": {
          "base_uri": "https://localhost:8080/"
        },
        "id": "SRr4oblZHgi7",
        "outputId": "f39bf731-68a7-4af7-ae11-4bb3b2867203"
      },
      "execution_count": null,
      "outputs": [
        {
          "output_type": "stream",
          "name": "stdout",
          "text": [
            "Looking in indexes: https://pypi.org/simple, https://us-python.pkg.dev/colab-wheels/public/simple/\n",
            "Collecting transformers\n",
            "  Downloading transformers-4.24.0-py3-none-any.whl (5.5 MB)\n",
            "\u001b[K     |████████████████████████████████| 5.5 MB 5.0 MB/s \n",
            "\u001b[?25hRequirement already satisfied: filelock in /usr/local/lib/python3.7/dist-packages (from transformers) (3.8.0)\n",
            "Requirement already satisfied: packaging>=20.0 in /usr/local/lib/python3.7/dist-packages (from transformers) (21.3)\n",
            "Collecting huggingface-hub<1.0,>=0.10.0\n",
            "  Downloading huggingface_hub-0.11.1-py3-none-any.whl (182 kB)\n",
            "\u001b[K     |████████████████████████████████| 182 kB 25.6 MB/s \n",
            "\u001b[?25hRequirement already satisfied: numpy>=1.17 in /usr/local/lib/python3.7/dist-packages (from transformers) (1.21.6)\n",
            "Requirement already satisfied: tqdm>=4.27 in /usr/local/lib/python3.7/dist-packages (from transformers) (4.64.1)\n",
            "Requirement already satisfied: pyyaml>=5.1 in /usr/local/lib/python3.7/dist-packages (from transformers) (6.0)\n",
            "Requirement already satisfied: regex!=2019.12.17 in /usr/local/lib/python3.7/dist-packages (from transformers) (2022.6.2)\n",
            "Collecting tokenizers!=0.11.3,<0.14,>=0.11.1\n",
            "  Downloading tokenizers-0.13.2-cp37-cp37m-manylinux_2_17_x86_64.manylinux2014_x86_64.whl (7.6 MB)\n",
            "\u001b[K     |████████████████████████████████| 7.6 MB 39.5 MB/s \n",
            "\u001b[?25hRequirement already satisfied: importlib-metadata in /usr/local/lib/python3.7/dist-packages (from transformers) (4.13.0)\n",
            "Requirement already satisfied: requests in /usr/local/lib/python3.7/dist-packages (from transformers) (2.23.0)\n",
            "Requirement already satisfied: typing-extensions>=3.7.4.3 in /usr/local/lib/python3.7/dist-packages (from huggingface-hub<1.0,>=0.10.0->transformers) (4.1.1)\n",
            "Requirement already satisfied: pyparsing!=3.0.5,>=2.0.2 in /usr/local/lib/python3.7/dist-packages (from packaging>=20.0->transformers) (3.0.9)\n",
            "Requirement already satisfied: zipp>=0.5 in /usr/local/lib/python3.7/dist-packages (from importlib-metadata->transformers) (3.10.0)\n",
            "Requirement already satisfied: idna<3,>=2.5 in /usr/local/lib/python3.7/dist-packages (from requests->transformers) (2.10)\n",
            "Requirement already satisfied: certifi>=2017.4.17 in /usr/local/lib/python3.7/dist-packages (from requests->transformers) (2022.9.24)\n",
            "Requirement already satisfied: urllib3!=1.25.0,!=1.25.1,<1.26,>=1.21.1 in /usr/local/lib/python3.7/dist-packages (from requests->transformers) (1.24.3)\n",
            "Requirement already satisfied: chardet<4,>=3.0.2 in /usr/local/lib/python3.7/dist-packages (from requests->transformers) (3.0.4)\n",
            "Installing collected packages: tokenizers, huggingface-hub, transformers\n",
            "Successfully installed huggingface-hub-0.11.1 tokenizers-0.13.2 transformers-4.24.0\n"
          ]
        }
      ]
    },
    {
      "cell_type": "code",
      "execution_count": null,
      "metadata": {
        "id": "vAFquWRbC-FU"
      },
      "outputs": [],
      "source": [
        "from sklearn.ensemble import RandomForestClassifier\n",
        "from sklearn.model_selection import train_test_split, KFold\n",
        "from transformers import DistilBertTokenizer, DistilBertModel\n",
        "from sklearn.metrics import f1_score, average_precision_score\n",
        "import pandas as pd\n",
        "import numpy as np\n",
        "import pickle\n",
        "from keras.layers import Dense, Dropout\n",
        "from keras.losses import BinaryCrossentropy\n",
        "from keras.models import Sequential\n",
        "from keras.regularizers import l2"
      ]
    },
    {
      "cell_type": "code",
      "source": [
        "tokenizer = DistilBertTokenizer.from_pretrained(\"distilbert-base-uncased\")\n",
        "model = DistilBertModel.from_pretrained(\"distilbert-base-uncased\")"
      ],
      "metadata": {
        "colab": {
          "base_uri": "https://localhost:8080/",
          "height": 219,
          "referenced_widgets": [
            "4e5b640cc46140f39c8ef73bd25039cd",
            "94dde8d42cc943b591aabbbd5f00258f",
            "32d8c802c6e04099a59307171e47443c",
            "78f5e17c8b12437e9bce5c233d301a9c",
            "cbf97edd4a554b9aa26f5fc39d4f487c",
            "4891dc85f32f412495c019c776bbe432",
            "71c02873f14c49f0bab6a7386f947f82",
            "833b4fe7d5bc49a888ccab9b63aefdf5",
            "608e11452d924a478b90179627af450b",
            "bcc77ffe87b44b8981b3824fb921d025",
            "95719f879bb24496b2825233dc38225e",
            "a3bf3621e79541d4a4473fbb4a32dfdf",
            "c37c15a4caf446dba54cbcd874177f0a",
            "e1e87433ce1946d9bb7fe0a7f8088fce",
            "35ce795a37874ea191d734b148e5bffc",
            "12648b5e439d4e489e0b2dcd4edfd4b6",
            "1abcf56bf36742289d3b0d1a8740eadf",
            "48fa078f9f544568a54e9efeae1f6db0",
            "86e54138c50c45d195f7a90620b3aa92",
            "2de88c42ac894f5789e3263e5861b63e",
            "4404e6bb5d2b4b299813d332ff01962f",
            "d64ec8b6722248d1b49e7fd16ed738fa",
            "6dad0e9b343148818d83ca4d265a0093",
            "a258516b18664e2b98a94c8ccfa1416c",
            "9c868b1f91c9461aa2c481a006ffe08f",
            "021065ccbd0a476eaeeb6e960e817b07",
            "00b926fe6f3245fda9d6e1e7a80c7e55",
            "4441072cda8d4465a28da50a0bd236eb",
            "e543d49c94804ee7911997244dffc5b4",
            "6e212e800be04fef9d5629e07428ea0b",
            "bec77e3c801e450ba1395b97f0e64691",
            "849877262b084f608d91035359d9058c",
            "16677e7ccd054e52ae0e6f35b8f93ddd",
            "df38a0e605944540bc602ffc5ceaaefd",
            "3af5b09b1e3b4e68979919c90847f1a3",
            "bdc378ebd70a431eadc08da2cbf47395",
            "ab0a51d39474413292f2a3c8ed9d31eb",
            "1c6e0872010b4f1382c3a507b7ce943d",
            "35642bb0bc854fa7b463e2978a7c2b4e",
            "4f76fa5104c848c4bdd76b71ea76b5f9",
            "231c0959948f485293bef53591a299a7",
            "df721c422a01475ba6aab17419930018",
            "ade356311bb8422ba33fedaee00505a6",
            "8b0108904d134bd8bed35912e8616c9f"
          ]
        },
        "id": "dzfVzvT3DWIS",
        "outputId": "e84b80c0-ecf3-4246-a3ae-b9419bc575e8"
      },
      "execution_count": null,
      "outputs": [
        {
          "output_type": "display_data",
          "data": {
            "text/plain": [
              "Downloading:   0%|          | 0.00/232k [00:00<?, ?B/s]"
            ],
            "application/vnd.jupyter.widget-view+json": {
              "version_major": 2,
              "version_minor": 0,
              "model_id": "4e5b640cc46140f39c8ef73bd25039cd"
            }
          },
          "metadata": {}
        },
        {
          "output_type": "display_data",
          "data": {
            "text/plain": [
              "Downloading:   0%|          | 0.00/28.0 [00:00<?, ?B/s]"
            ],
            "application/vnd.jupyter.widget-view+json": {
              "version_major": 2,
              "version_minor": 0,
              "model_id": "a3bf3621e79541d4a4473fbb4a32dfdf"
            }
          },
          "metadata": {}
        },
        {
          "output_type": "display_data",
          "data": {
            "text/plain": [
              "Downloading:   0%|          | 0.00/483 [00:00<?, ?B/s]"
            ],
            "application/vnd.jupyter.widget-view+json": {
              "version_major": 2,
              "version_minor": 0,
              "model_id": "6dad0e9b343148818d83ca4d265a0093"
            }
          },
          "metadata": {}
        },
        {
          "output_type": "display_data",
          "data": {
            "text/plain": [
              "Downloading:   0%|          | 0.00/268M [00:00<?, ?B/s]"
            ],
            "application/vnd.jupyter.widget-view+json": {
              "version_major": 2,
              "version_minor": 0,
              "model_id": "df38a0e605944540bc602ffc5ceaaefd"
            }
          },
          "metadata": {}
        },
        {
          "output_type": "stream",
          "name": "stderr",
          "text": [
            "Some weights of the model checkpoint at distilbert-base-uncased were not used when initializing DistilBertModel: ['vocab_transform.bias', 'vocab_layer_norm.bias', 'vocab_projector.weight', 'vocab_projector.bias', 'vocab_layer_norm.weight', 'vocab_transform.weight']\n",
            "- This IS expected if you are initializing DistilBertModel from the checkpoint of a model trained on another task or with another architecture (e.g. initializing a BertForSequenceClassification model from a BertForPreTraining model).\n",
            "- This IS NOT expected if you are initializing DistilBertModel from the checkpoint of a model that you expect to be exactly identical (initializing a BertForSequenceClassification model from a BertForSequenceClassification model).\n"
          ]
        }
      ]
    },
    {
      "cell_type": "code",
      "source": [
        "data = pd.read_excel('final_labels.xlsx')"
      ],
      "metadata": {
        "id": "kuthN1zTHbAG"
      },
      "execution_count": null,
      "outputs": []
    },
    {
      "cell_type": "code",
      "source": [
        "for i in data.index:\n",
        "  c1 = tokenizer(data.loc[i, 'C1'], return_tensors=\"pt\")\n",
        "  c2 = tokenizer(data.loc[i, 'C2'], return_tensors=\"pt\")\n",
        "  c3 = tokenizer(data.loc[i, 'C3'], return_tensors=\"pt\")\n",
        "  try:\n",
        "    emb1, emb2, emb3 = model(**c1, output_hidden_states=True)['last_hidden_state'][:,0,:].detach().numpy(), model(**c2, output_hidden_states=True)['last_hidden_state'][:,0,:].detach().numpy(), model(**c3, output_hidden_states=True)['last_hidden_state'][:,0,:].detach().numpy()\n",
        "  except:\n",
        "    continue\n",
        "  chain_emb = np.concatenate([emb1, emb2, emb3], axis = 1)\n",
        "  if i == 0:\n",
        "    X = chain_emb\n",
        "    Y_ag = np.array(data.loc[i,'Agree']).reshape(-1,1)\n",
        "    Y_ci = np.array(data.loc[i,'Civil']).reshape(-1,1)\n",
        "    Y_se = np.array(data.loc[i,'Serious']).reshape(-1,1)\n",
        "  else:\n",
        "    X = np.concatenate([X, chain_emb])\n",
        "    Y_ag = np.concatenate([Y_ag, np.array(data.loc[i,'Agree']).reshape(-1,1)])\n",
        "    Y_ci = np.concatenate([Y_ci, np.array(data.loc[i,'Civil']).reshape(-1,1)])\n",
        "    Y_se = np.concatenate([Y_se, np.array(data.loc[i,'Serious']).reshape(-1,1)])\n"
      ],
      "metadata": {
        "id": "gTn6eC9bDNWg",
        "colab": {
          "base_uri": "https://localhost:8080/",
          "height": 276
        },
        "outputId": "fb4b15d1-08bc-4132-9710-8ccf907ee386"
      },
      "execution_count": null,
      "outputs": [
        {
          "output_type": "error",
          "ename": "NameError",
          "evalue": "ignored",
          "traceback": [
            "\u001b[0;31m---------------------------------------------------------------------------\u001b[0m",
            "\u001b[0;31mNameError\u001b[0m                                 Traceback (most recent call last)",
            "\u001b[0;32m<ipython-input-3-384a100883e2>\u001b[0m in \u001b[0;36m<module>\u001b[0;34m\u001b[0m\n\u001b[1;32m      1\u001b[0m \u001b[0;32mfor\u001b[0m \u001b[0mi\u001b[0m \u001b[0;32min\u001b[0m \u001b[0mdata\u001b[0m\u001b[0;34m.\u001b[0m\u001b[0mindex\u001b[0m\u001b[0;34m:\u001b[0m\u001b[0;34m\u001b[0m\u001b[0;34m\u001b[0m\u001b[0m\n\u001b[0;32m----> 2\u001b[0;31m   \u001b[0mc1\u001b[0m \u001b[0;34m=\u001b[0m \u001b[0mtokenizer\u001b[0m\u001b[0;34m(\u001b[0m\u001b[0mdata\u001b[0m\u001b[0;34m.\u001b[0m\u001b[0mloc\u001b[0m\u001b[0;34m[\u001b[0m\u001b[0mi\u001b[0m\u001b[0;34m,\u001b[0m \u001b[0;34m'C1'\u001b[0m\u001b[0;34m]\u001b[0m\u001b[0;34m,\u001b[0m \u001b[0mreturn_tensors\u001b[0m\u001b[0;34m=\u001b[0m\u001b[0;34m\"pt\"\u001b[0m\u001b[0;34m)\u001b[0m\u001b[0;34m\u001b[0m\u001b[0;34m\u001b[0m\u001b[0m\n\u001b[0m\u001b[1;32m      3\u001b[0m   \u001b[0mc2\u001b[0m \u001b[0;34m=\u001b[0m \u001b[0mtokenizer\u001b[0m\u001b[0;34m(\u001b[0m\u001b[0mdata\u001b[0m\u001b[0;34m.\u001b[0m\u001b[0mloc\u001b[0m\u001b[0;34m[\u001b[0m\u001b[0mi\u001b[0m\u001b[0;34m,\u001b[0m \u001b[0;34m'C2'\u001b[0m\u001b[0;34m]\u001b[0m\u001b[0;34m,\u001b[0m \u001b[0mreturn_tensors\u001b[0m\u001b[0;34m=\u001b[0m\u001b[0;34m\"pt\"\u001b[0m\u001b[0;34m)\u001b[0m\u001b[0;34m\u001b[0m\u001b[0;34m\u001b[0m\u001b[0m\n\u001b[1;32m      4\u001b[0m   \u001b[0mc3\u001b[0m \u001b[0;34m=\u001b[0m \u001b[0mtokenizer\u001b[0m\u001b[0;34m(\u001b[0m\u001b[0mdata\u001b[0m\u001b[0;34m.\u001b[0m\u001b[0mloc\u001b[0m\u001b[0;34m[\u001b[0m\u001b[0mi\u001b[0m\u001b[0;34m,\u001b[0m \u001b[0;34m'C3'\u001b[0m\u001b[0;34m]\u001b[0m\u001b[0;34m,\u001b[0m \u001b[0mreturn_tensors\u001b[0m\u001b[0;34m=\u001b[0m\u001b[0;34m\"pt\"\u001b[0m\u001b[0;34m)\u001b[0m\u001b[0;34m\u001b[0m\u001b[0;34m\u001b[0m\u001b[0m\n\u001b[1;32m      5\u001b[0m   \u001b[0;32mtry\u001b[0m\u001b[0;34m:\u001b[0m\u001b[0;34m\u001b[0m\u001b[0;34m\u001b[0m\u001b[0m\n",
            "\u001b[0;31mNameError\u001b[0m: name 'tokenizer' is not defined"
          ]
        }
      ]
    },
    {
      "cell_type": "code",
      "source": [
        "out = {'emb': X, 'Y_ag': Y_ag, 'Y_ci': Y_ci, 'Y_se': Y_se}\n",
        "with open('labeled_emb.pickle', 'wb') as handle:\n",
        "    pickle.dump(out, handle, protocol=pickle.HIGHEST_PROTOCOL)"
      ],
      "metadata": {
        "id": "KUq4MwRt8R2p"
      },
      "execution_count": null,
      "outputs": []
    },
    {
      "cell_type": "code",
      "source": [
        "with open('final_emb.pickle', 'rb') as f:\n",
        "    labels = pickle.load(f)"
      ],
      "metadata": {
        "id": "ej_m0ZcfMRS-"
      },
      "execution_count": null,
      "outputs": []
    },
    {
      "cell_type": "code",
      "source": [
        "X = labels['emb']\n",
        "Y_ag = np.array(data['ag']).reshape(-1,1)\n",
        "Y_ci = np.array(data['ci']).reshape(-1,1)\n",
        "Y_se = np.array(data['se']).reshape(-1,1)"
      ],
      "metadata": {
        "id": "h4XYcVDNBuoU"
      },
      "execution_count": null,
      "outputs": []
    },
    {
      "cell_type": "code",
      "source": [
        "# X_train, X_test, Y_ag_train, Y_ag_test = train_test_split(X, Y_ag, random_state = 1, test_size = 0.1)\n",
        "# X_train, X_test, Y_ci_train, Y_ci_test = train_test_split(X, Y_ci, random_state = 1, test_size = 0.1)\n",
        "# X_train, X_test, Y_se_train, Y_se_test = train_test_split(X, Y_se, random_state = 1, test_size = 0.1)\n",
        "X_train = X\n",
        "Y_ag_train = Y_ag\n",
        "Y_ci_train = Y_ci\n",
        "Y_se_train = Y_se"
      ],
      "metadata": {
        "id": "ouL_8_FgUuwZ"
      },
      "execution_count": null,
      "outputs": []
    },
    {
      "cell_type": "code",
      "source": [
        "def create_model():\n",
        "  model = Sequential(\n",
        "      [\n",
        "          Dense(150, activation=\"softplus\", name=\"layer1\", input_shape=(2304,), kernel_regularizer= l2(0.01)),\n",
        "          Dropout(0.1),\n",
        "          Dense(150, activation=\"softplus\", name=\"layer2\", kernel_regularizer= l2(0.01)),\n",
        "          Dropout(0.1),\n",
        "          Dense(1, activation = 'sigmoid',name=\"layer3\"),\n",
        "      ]\n",
        "  )\n",
        "  model.compile(loss='binary_crossentropy', optimizer='adam', metrics=['accuracy'])\n",
        "  return model\n",
        "\n",
        "def create_multitask_model():\n",
        "  model = Sequential(\n",
        "      [\n",
        "          Dense(250, activation=\"softplus\", name=\"layer1\", input_shape=(2304,), kernel_regularizer= l2(0.01)),\n",
        "          Dropout(0.1),\n",
        "          Dense(250, activation=\"softplus\", name=\"layer2\", kernel_regularizer= l2(0.01)),\n",
        "          Dropout(0.1),\n",
        "          Dense(3, activation = 'sigmoid',name=\"layer3\"),\n",
        "      ]\n",
        "  )\n",
        "  model.compile(loss='binary_crossentropy', optimizer='adam', metrics=['accuracy'])\n",
        "  return model\n"
      ],
      "metadata": {
        "id": "bXO7KC9wYLVw"
      },
      "execution_count": null,
      "outputs": []
    },
    {
      "cell_type": "code",
      "source": [
        "kf = KFold(n_splits=10)\n",
        "f = 1\n",
        "rf_results = pd.DataFrame()\n",
        "nn_results = pd.DataFrame()\n",
        "mt_results = pd.DataFrame()\n",
        "\n",
        "nn_ag_best = None\n",
        "nn_se_best = None\n",
        "nn_ci_best = None\n",
        "\n",
        "rf_ag_best = None\n",
        "rf_se_best = None\n",
        "rf_ci_best = None\n",
        "\n",
        "mt_best = None\n",
        "\n",
        "for train_index, test_index in kf.split(X_train):\n",
        "  clf_res_dict = {}\n",
        "  nn_res_dict = {}\n",
        "  mt_res_dict = {}\n",
        "\n",
        "  x = X_train[train_index]\n",
        "  y_ag = Y_ag_train[train_index]\n",
        "  y_ci = Y_ci_train[train_index]\n",
        "  y_se = Y_se_train[train_index]\n",
        "\n",
        "  x_t = X_train[test_index]\n",
        "  y_t_ag = Y_ag_train[test_index]\n",
        "  y_t_ci = Y_ci_train[test_index]\n",
        "  y_t_se = Y_se_train[test_index]\n",
        "  \n",
        "  print('Training random forest...')\n",
        "  clf_ag = RandomForestClassifier(max_depth=3, random_state=2, n_estimators=300)\n",
        "  clf_ag.fit(x, y_ag.reshape(-1,))\n",
        "  clf_ci = RandomForestClassifier(max_depth=3, random_state=2, n_estimators=300)\n",
        "  clf_ci.fit(x, y_ci.reshape(-1,))\n",
        "  clf_se = RandomForestClassifier(max_depth=3, random_state=2, n_estimators=300)\n",
        "  clf_se.fit(x, y_se.reshape(-1,))\n",
        "\n",
        "  print('Training multitask...')\n",
        "  mt_nn = create_multitask_model()\n",
        "  multi_y = np.concatenate([y_ag, y_ci, y_se], axis = 1)\n",
        "  mt_nn.fit(x, multi_y, epochs = 100, verbose = 0)\n",
        "\n",
        "  print('Training single-task NNs...')\n",
        "  nn_ag = create_model()\n",
        "  nn_ag.fit(x, y_ag.reshape(-1,), epochs = 100, verbose = 0)\n",
        "  nn_ci = create_model()\n",
        "  nn_ci.fit(x, y_ci.reshape(-1,), epochs = 100, verbose = 0)\n",
        "  nn_se = create_model()\n",
        "  nn_se.fit(x, y_se.reshape(-1,), epochs = 100, verbose = 0)\n",
        "\n",
        "  \n",
        "  print(f'Fold {f} ----------------------')\n",
        "  print('Agreement')\n",
        "  test_pred = clf_ag.predict(x_t)\n",
        "  train_pred = clf_ag.predict(x)\n",
        "  clf_res_dict['ag_train'] = f1_score(y_ag, train_pred)\n",
        "  clf_res_dict['ag_test'] = f1_score(y_t_ag, test_pred)\n",
        "  clf_res_dict['ag_train_auc'] = average_precision_score(y_ag, train_pred)\n",
        "  clf_res_dict['ag_test_auc'] = average_precision_score(y_t_ag, test_pred)\n",
        "\n",
        "  test_pred = nn_ag.predict(x_t)\n",
        "  train_pred = (nn_ag.predict(x))\n",
        "  if f == 1:\n",
        "    rf_ag_best = clf_ag    \n",
        "  elif f1_score(y_t_ag, test_pred.round()) == max(rf_results['ag_test'] ):\n",
        "    rf_ag_best = clf_ag\n",
        "  nn_res_dict['ag_train'] = f1_score( y_ag, train_pred.round())\n",
        "  nn_res_dict['ag_test'] = f1_score(y_t_ag, test_pred.round())\n",
        "  nn_res_dict['ag_train_auc'] = average_precision_score(y_ag, train_pred)\n",
        "  nn_res_dict['ag_test_auc'] = average_precision_score(y_t_ag, test_pred)\n",
        "\n",
        "\n",
        "  if f == 1:\n",
        "    nn_ag_best = nn_ag\n",
        "  elif f1_score(y_t_ag, test_pred.round()) == max(nn_results['ag_test']):\n",
        "    nn_ag_best = nn_ag\n",
        "\n",
        "  #print('Train:', f1_score(train_pred, y_ag))\n",
        "  #print('Test:', f1_score(test_pred, y_t_ag)) \n",
        "\n",
        "  test_pred = clf_ci.predict(x_t)\n",
        "  train_pred = clf_ci.predict(x)\n",
        "  clf_res_dict['ci_train'] = f1_score(y_ci, train_pred)\n",
        "  clf_res_dict['ci_test'] = f1_score(y_t_ci,test_pred)\n",
        "  clf_res_dict['ci_train_auc'] = average_precision_score(y_ci, train_pred)\n",
        "  clf_res_dict['ci_test_auc'] = average_precision_score(y_t_ci, test_pred)\n",
        "\n",
        "  if f == 1:\n",
        "    rf_ci_best = clf_ci\n",
        "  elif f1_score(y_t_ci, test_pred.round()) == max(rf_results['ci_test']):\n",
        "    rf_ci_best = clf_ci\n",
        "  test_pred = (nn_ci.predict(x_t))\n",
        "  train_pred = (nn_ci.predict(x))\n",
        "  nn_res_dict['ci_train'] = f1_score(y_ci, train_pred.round())\n",
        "  nn_res_dict['ci_test'] = f1_score( y_t_ci, test_pred.round())\n",
        "  nn_res_dict['ci_train_auc'] = average_precision_score(y_ci, train_pred)\n",
        "  nn_res_dict['ci_test_auc'] = average_precision_score(y_t_ci, test_pred)\n",
        "\n",
        "  if f == 1:\n",
        "    nn_ci_best = nn_ci\n",
        "  elif f1_score( y_t_ci, test_pred.round()) == max(nn_results['ci_test']):\n",
        "    nn_ci_best = nn_ci\n",
        "  #print('Civil')\n",
        "  #print('Train:', f1_score(train_pred, y_ci))\n",
        "  #print('Test:', f1_score(test_pred, y_t_ci)) \n",
        "\n",
        "  test_pred = clf_se.predict(x_t)\n",
        "  train_pred = clf_se.predict(x)\n",
        "  clf_res_dict['se_train'] = f1_score(y_se, train_pred.round())\n",
        "  clf_res_dict['se_test'] = f1_score(y_t_se, test_pred.round() )\n",
        "  clf_res_dict['se_train_auc'] = average_precision_score(y_se, train_pred)\n",
        "  clf_res_dict['se_test_auc'] = average_precision_score(y_t_se, test_pred)\n",
        "\n",
        "  if f == 1:\n",
        "    rf_se_best = clf_se\n",
        "  elif f1_score(y_t_se, test_pred.round()) == max(rf_results['se_test']):\n",
        "    rf_se_best = clf_se\n",
        "  test_pred = (nn_se.predict(x_t))\n",
        "  train_pred = (nn_se.predict(x))\n",
        "  nn_res_dict['se_train'] = f1_score(y_se, train_pred.round())\n",
        "  nn_res_dict['se_test'] = f1_score(y_t_se, test_pred.round())\n",
        "  nn_res_dict['se_train_auc'] = average_precision_score(y_se, train_pred)\n",
        "  nn_res_dict['se_test_auc'] = average_precision_score(y_t_se, test_pred)\n",
        "\n",
        "  if f == 1:\n",
        "    nn_se_best = nn_se\n",
        "  elif f1_score(y_t_se, test_pred.round()) == max(nn_results['se_test']):\n",
        "    nn_se_best = nn_se\n",
        "  #print('Serious')\n",
        "  #print('Train:', f1_score(train_pred, y_se))\n",
        "  #print('Test:', f1_score(test_pred, y_t_se))\n",
        "\n",
        "  full_test_preds = mt_nn.predict(x_t)\n",
        "  full_train_preds = mt_nn.predict(x)\n",
        "  mt_res_dict['ag_train'] = f1_score(y_ag.reshape(-1,), full_train_preds[:,0].round())\n",
        "  mt_res_dict['ag_test'] = f1_score( y_t_ag.reshape(-1,), full_test_preds[:,0].round())\n",
        "  mt_res_dict['ci_train'] = f1_score( y_ci.reshape(-1,), full_train_preds[:,1].round())\n",
        "  mt_res_dict['ci_test'] = f1_score(y_t_ci.reshape(-1,), full_test_preds[:,1].round())\n",
        "  mt_res_dict['se_train'] = f1_score(y_se.reshape(-1,), full_train_preds[:,2].round())\n",
        "  mt_res_dict['se_test'] = f1_score(y_se.reshape(-1,), full_train_preds[:,2].round())\n",
        "  \n",
        "  mt_res_dict['ag_train_auc'] = average_precision_score(y_ag.reshape(-1,), full_train_preds[:,0])\n",
        "  mt_res_dict['ag_test_auc'] = average_precision_score( y_t_ag.reshape(-1,), full_test_preds[:,0])\n",
        "  mt_res_dict['ci_train_auc'] = average_precision_score(y_ci.reshape(-1,), full_train_preds[:,1])\n",
        "  mt_res_dict['ci_test_auc'] = average_precision_score(y_t_ci.reshape(-1,), full_test_preds[:,1])\n",
        "  mt_res_dict['se_train_auc'] = average_precision_score(y_se.reshape(-1,), full_train_preds[:,2])\n",
        "  mt_res_dict['se_test_auc'] = average_precision_score(y_se.reshape(-1,), full_train_preds[:,2])\n",
        "  if f == 1:\n",
        "    mt_best = mt_nn\n",
        "  elif mt_res_dict['ag_test']*  mt_res_dict['ci_test'] *  mt_res_dict['se_test'] == max(mt_results['ag_test']) * max(mt_results['ci_test']) *max(mt_results['se_test']):\n",
        "    mt_best = mt_nn\n",
        "\n",
        "  rf_results = rf_results.append(clf_res_dict, ignore_index = True) \n",
        "  nn_results = nn_results.append(nn_res_dict, ignore_index = True) \n",
        "  mt_results = mt_results.append(mt_res_dict, ignore_index = True) \n",
        "  print('rf_results')\n",
        "  print(rf_results)\n",
        "  print('nn_results')\n",
        "  print(nn_results)\n",
        "  print('mt_results')\n",
        "  print(mt_results)\n",
        "  f += 1"
      ],
      "metadata": {
        "colab": {
          "base_uri": "https://localhost:8080/"
        },
        "id": "Y2SZsLEeUkI-",
        "outputId": "e4f43184-6eaf-4b4d-a2ed-7092b9379df5"
      },
      "execution_count": null,
      "outputs": [
        {
          "output_type": "stream",
          "name": "stdout",
          "text": [
            "Training random forest...\n",
            "Training multitask...\n",
            "Training single-task NNs...\n",
            "Fold 1 ----------------------\n",
            "Agreement\n",
            "40/40 [==============================] - 0s 2ms/step\n",
            "355/355 [==============================] - 1s 2ms/step\n",
            "40/40 [==============================] - 0s 2ms/step\n",
            "355/355 [==============================] - 1s 2ms/step\n",
            "40/40 [==============================] - 0s 2ms/step\n",
            "355/355 [==============================] - 1s 2ms/step\n",
            "40/40 [==============================] - 0s 2ms/step\n",
            "355/355 [==============================] - 1s 2ms/step\n",
            "rf_results\n",
            "   ag_train   ag_test  ag_train_auc  ag_test_auc  ci_train  ci_test  \\\n",
            "0  0.565996  0.590542      0.600895     0.645159  0.869895  0.85337   \n",
            "\n",
            "   ci_train_auc  ci_test_auc  se_train   se_test  se_train_auc  se_test_auc  \n",
            "0      0.769747     0.744241  0.909091  0.886132      0.833333     0.795545  \n",
            "nn_results\n",
            "   ag_train   ag_test  ag_train_auc  ag_test_auc  ci_train   ci_test  \\\n",
            "0  0.842243  0.851638      0.971073     0.969208  0.943279  0.934071   \n",
            "\n",
            "   ci_train_auc  ci_test_auc  se_train   se_test  se_train_auc  se_test_auc  \n",
            "0      0.992842     0.986414  0.956694  0.951382      0.996964     0.995089  \n",
            "mt_results\n",
            "   ag_train   ag_test  ci_train   ci_test  se_train  se_test  ag_train_auc  \\\n",
            "0  0.747132  0.778316  0.907696  0.899466   0.94855  0.94855      0.885117   \n",
            "\n",
            "   ag_test_auc  ci_train_auc  ci_test_auc  se_train_auc  se_test_auc  \n",
            "0     0.907953      0.972947     0.961884      0.990173     0.990173  \n",
            "Training random forest...\n",
            "Training multitask...\n",
            "Training single-task NNs...\n",
            "Fold 2 ----------------------\n",
            "Agreement\n",
            "40/40 [==============================] - 0s 2ms/step\n",
            "355/355 [==============================] - 1s 2ms/step\n",
            "40/40 [==============================] - 0s 2ms/step\n",
            "355/355 [==============================] - 1s 2ms/step\n",
            "40/40 [==============================] - 0s 2ms/step\n",
            "355/355 [==============================] - 1s 2ms/step\n",
            "40/40 [==============================] - 0s 2ms/step\n",
            "355/355 [==============================] - 1s 2ms/step\n",
            "rf_results\n",
            "   ag_train   ag_test  ag_train_auc  ag_test_auc  ci_train   ci_test  \\\n",
            "0  0.565996  0.590542      0.600895     0.645159  0.869895  0.853370   \n",
            "1  0.582894  0.534314      0.609169     0.570577  0.869105  0.860633   \n",
            "\n",
            "   ci_train_auc  ci_test_auc  se_train   se_test  se_train_auc  se_test_auc  \n",
            "0      0.769747     0.744241  0.909091  0.886132      0.833333     0.795545  \n",
            "1      0.768511     0.755361  0.910219  0.872417      0.835232     0.773705  \n",
            "nn_results\n",
            "   ag_train   ag_test  ag_train_auc  ag_test_auc  ci_train   ci_test  \\\n",
            "0  0.842243  0.851638      0.971073     0.969208  0.943279  0.934071   \n",
            "1  0.885962  0.866062      0.971328     0.960565  0.961328  0.955852   \n",
            "\n",
            "   ci_train_auc  ci_test_auc  se_train   se_test  se_train_auc  se_test_auc  \n",
            "0      0.992842     0.986414  0.956694  0.951382      0.996964     0.995089  \n",
            "1      0.993987     0.992277  0.967960  0.944093      0.997590     0.993275  \n",
            "mt_results\n",
            "   ag_train   ag_test  ci_train   ci_test  se_train   se_test  ag_train_auc  \\\n",
            "0  0.747132  0.778316  0.907696  0.899466  0.948550  0.948550      0.885117   \n",
            "1  0.758286  0.706278  0.919295  0.924000  0.950679  0.950679      0.894121   \n",
            "\n",
            "   ag_test_auc  ci_train_auc  ci_test_auc  se_train_auc  se_test_auc  \n",
            "0     0.907953      0.972947     0.961884      0.990173     0.990173  \n",
            "1     0.873029      0.974319     0.969478      0.991515     0.991515  \n",
            "Training random forest...\n",
            "Training multitask...\n",
            "Training single-task NNs...\n",
            "Fold 3 ----------------------\n",
            "Agreement\n",
            "40/40 [==============================] - 0s 2ms/step\n",
            "355/355 [==============================] - 1s 2ms/step\n",
            "40/40 [==============================] - 0s 2ms/step\n",
            "355/355 [==============================] - 1s 2ms/step\n",
            "40/40 [==============================] - 0s 2ms/step\n",
            "355/355 [==============================] - 1s 2ms/step\n",
            "40/40 [==============================] - 0s 2ms/step\n",
            "355/355 [==============================] - 1s 2ms/step\n",
            "rf_results\n",
            "   ag_train   ag_test  ag_train_auc  ag_test_auc  ci_train   ci_test  \\\n",
            "0  0.565996  0.590542      0.600895     0.645159  0.869895  0.853370   \n",
            "1  0.582894  0.534314      0.609169     0.570577  0.869105  0.860633   \n",
            "2  0.562711  0.639029      0.600969     0.652229  0.867975  0.870852   \n",
            "\n",
            "   ci_train_auc  ci_test_auc  se_train   se_test  se_train_auc  se_test_auc  \n",
            "0      0.769747     0.744241  0.909091  0.886132      0.833333     0.795545  \n",
            "1      0.768511     0.755361  0.910219  0.872417      0.835232     0.773705  \n",
            "2      0.766746     0.771247  0.903514  0.942857      0.824008     0.891892  \n",
            "nn_results\n",
            "   ag_train   ag_test  ag_train_auc  ag_test_auc  ci_train   ci_test  \\\n",
            "0  0.842243  0.851638      0.971073     0.969208  0.943279  0.934071   \n",
            "1  0.885962  0.866062      0.971328     0.960565  0.961328  0.955852   \n",
            "2  0.830969  0.835081      0.970227     0.970157  0.957645  0.955466   \n",
            "\n",
            "   ci_train_auc  ci_test_auc  se_train   se_test  se_train_auc  se_test_auc  \n",
            "0      0.992842     0.986414  0.956694  0.951382      0.996964     0.995089  \n",
            "1      0.993987     0.992277  0.967960  0.944093      0.997590     0.993275  \n",
            "2      0.993560     0.993088  0.964304  0.979377      0.997074     0.998331  \n",
            "mt_results\n",
            "   ag_train   ag_test  ci_train   ci_test  se_train   se_test  ag_train_auc  \\\n",
            "0  0.747132  0.778316  0.907696  0.899466  0.948550  0.948550      0.885117   \n",
            "1  0.758286  0.706278  0.919295  0.924000  0.950679  0.950679      0.894121   \n",
            "2  0.742815  0.770104  0.902949  0.902326  0.947104  0.947104      0.900641   \n",
            "\n",
            "   ag_test_auc  ci_train_auc  ci_test_auc  se_train_auc  se_test_auc  \n",
            "0     0.907953      0.972947     0.961884      0.990173     0.990173  \n",
            "1     0.873029      0.974319     0.969478      0.991515     0.991515  \n",
            "2     0.913391      0.970287     0.974086      0.989685     0.989685  \n",
            "Training random forest...\n",
            "Training multitask...\n",
            "Training single-task NNs...\n",
            "Fold 4 ----------------------\n",
            "Agreement\n",
            "40/40 [==============================] - 0s 2ms/step\n",
            "355/355 [==============================] - 1s 2ms/step\n",
            "40/40 [==============================] - 0s 2ms/step\n",
            "355/355 [==============================] - 1s 2ms/step\n",
            "40/40 [==============================] - 0s 2ms/step\n",
            "355/355 [==============================] - 1s 2ms/step\n",
            "40/40 [==============================] - 0s 2ms/step\n",
            "355/355 [==============================] - 1s 2ms/step\n",
            "rf_results\n",
            "   ag_train   ag_test  ag_train_auc  ag_test_auc  ci_train   ci_test  \\\n",
            "0  0.565996  0.590542      0.600895     0.645159  0.869895  0.853370   \n",
            "1  0.582894  0.534314      0.609169     0.570577  0.869105  0.860633   \n",
            "2  0.562711  0.639029      0.600969     0.652229  0.867975  0.870852   \n",
            "3  0.548544  0.482835      0.587020     0.635115  0.876004  0.793483   \n",
            "\n",
            "   ci_train_auc  ci_test_auc  se_train   se_test  se_train_auc  se_test_auc  \n",
            "0      0.769747     0.744241  0.909091  0.886132      0.833333     0.795545  \n",
            "1      0.768511     0.755361  0.910219  0.872417      0.835232     0.773705  \n",
            "2      0.766746     0.771247  0.903514  0.942857      0.824008     0.891892  \n",
            "3      0.779366     0.657665  0.906714  0.917708      0.829348     0.847930  \n",
            "nn_results\n",
            "   ag_train   ag_test  ag_train_auc  ag_test_auc  ci_train   ci_test  \\\n",
            "0  0.842243  0.851638      0.971073     0.969208  0.943279  0.934071   \n",
            "1  0.885962  0.866062      0.971328     0.960565  0.961328  0.955852   \n",
            "2  0.830969  0.835081      0.970227     0.970157  0.957645  0.955466   \n",
            "3  0.903199  0.908403      0.971008     0.974898  0.950285  0.931491   \n",
            "\n",
            "   ci_train_auc  ci_test_auc  se_train   se_test  se_train_auc  se_test_auc  \n",
            "0      0.992842     0.986414  0.956694  0.951382      0.996964     0.995089  \n",
            "1      0.993987     0.992277  0.967960  0.944093      0.997590     0.993275  \n",
            "2      0.993560     0.993088  0.964304  0.979377      0.997074     0.998331  \n",
            "3      0.992914     0.987408  0.941851  0.941645      0.997094     0.996533  \n",
            "mt_results\n",
            "   ag_train   ag_test  ci_train   ci_test  se_train   se_test  ag_train_auc  \\\n",
            "0  0.747132  0.778316  0.907696  0.899466  0.948550  0.948550      0.885117   \n",
            "1  0.758286  0.706278  0.919295  0.924000  0.950679  0.950679      0.894121   \n",
            "2  0.742815  0.770104  0.902949  0.902326  0.947104  0.947104      0.900641   \n",
            "3  0.723770  0.792982  0.924519  0.897510  0.949047  0.949047      0.898531   \n",
            "\n",
            "   ag_test_auc  ci_train_auc  ci_test_auc  se_train_auc  se_test_auc  \n",
            "0     0.907953      0.972947     0.961884      0.990173     0.990173  \n",
            "1     0.873029      0.974319     0.969478      0.991515     0.991515  \n",
            "2     0.913391      0.970287     0.974086      0.989685     0.989685  \n",
            "3     0.936722      0.974096     0.963867      0.991400     0.991400  \n",
            "Training random forest...\n",
            "Training multitask...\n",
            "Training single-task NNs...\n",
            "Fold 5 ----------------------\n",
            "Agreement\n",
            "40/40 [==============================] - 0s 2ms/step\n",
            "355/355 [==============================] - 1s 2ms/step\n",
            "40/40 [==============================] - 0s 2ms/step\n",
            "355/355 [==============================] - 1s 2ms/step\n",
            "40/40 [==============================] - 0s 2ms/step\n",
            "355/355 [==============================] - 1s 2ms/step\n",
            "40/40 [==============================] - 0s 2ms/step\n",
            "355/355 [==============================] - 1s 2ms/step\n",
            "rf_results\n",
            "   ag_train   ag_test  ag_train_auc  ag_test_auc  ci_train   ci_test  \\\n",
            "0  0.565996  0.590542      0.600895     0.645159  0.869895  0.853370   \n",
            "1  0.582894  0.534314      0.609169     0.570577  0.869105  0.860633   \n",
            "2  0.562711  0.639029      0.600969     0.652229  0.867975  0.870852   \n",
            "3  0.548544  0.482835      0.587020     0.635115  0.876004  0.793483   \n",
            "4  0.548364  0.568486      0.588053     0.658065  0.868428  0.866787   \n",
            "\n",
            "   ci_train_auc  ci_test_auc  se_train   se_test  se_train_auc  se_test_auc  \n",
            "0      0.769747     0.744241  0.909091  0.886132      0.833333     0.795545  \n",
            "1      0.768511     0.755361  0.910219  0.872417      0.835232     0.773705  \n",
            "2      0.766746     0.771247  0.903514  0.942857      0.824008     0.891892  \n",
            "3      0.779366     0.657665  0.906714  0.917708      0.829348     0.847930  \n",
            "4      0.767452     0.764893  0.905410  0.925641      0.827168     0.861575  \n",
            "nn_results\n",
            "   ag_train   ag_test  ag_train_auc  ag_test_auc  ci_train   ci_test  \\\n",
            "0  0.842243  0.851638      0.971073     0.969208  0.943279  0.934071   \n",
            "1  0.885962  0.866062      0.971328     0.960565  0.961328  0.955852   \n",
            "2  0.830969  0.835081      0.970227     0.970157  0.957645  0.955466   \n",
            "3  0.903199  0.908403      0.971008     0.974898  0.950285  0.931491   \n",
            "4  0.812244  0.831421      0.969535     0.968054  0.946481  0.931165   \n",
            "\n",
            "   ci_train_auc  ci_test_auc  se_train   se_test  se_train_auc  se_test_auc  \n",
            "0      0.992842     0.986414  0.956694  0.951382      0.996964     0.995089  \n",
            "1      0.993987     0.992277  0.967960  0.944093      0.997590     0.993275  \n",
            "2      0.993560     0.993088  0.964304  0.979377      0.997074     0.998331  \n",
            "3      0.992914     0.987408  0.941851  0.941645      0.997094     0.996533  \n",
            "4      0.993444     0.990509  0.967430  0.973123      0.996647     0.997754  \n",
            "mt_results\n",
            "   ag_train   ag_test  ci_train   ci_test  se_train   se_test  ag_train_auc  \\\n",
            "0  0.747132  0.778316  0.907696  0.899466  0.948550  0.948550      0.885117   \n",
            "1  0.758286  0.706278  0.919295  0.924000  0.950679  0.950679      0.894121   \n",
            "2  0.742815  0.770104  0.902949  0.902326  0.947104  0.947104      0.900641   \n",
            "3  0.723770  0.792982  0.924519  0.897510  0.949047  0.949047      0.898531   \n",
            "4  0.799760  0.819259  0.916676  0.908903  0.943348  0.943348      0.890981   \n",
            "\n",
            "   ag_test_auc  ci_train_auc  ci_test_auc  se_train_auc  se_test_auc  \n",
            "0     0.907953      0.972947     0.961884      0.990173     0.990173  \n",
            "1     0.873029      0.974319     0.969478      0.991515     0.991515  \n",
            "2     0.913391      0.970287     0.974086      0.989685     0.989685  \n",
            "3     0.936722      0.974096     0.963867      0.991400     0.991400  \n",
            "4     0.907206      0.973050     0.972642      0.988585     0.988585  \n",
            "Training random forest...\n",
            "Training multitask...\n",
            "Training single-task NNs...\n",
            "Fold 6 ----------------------\n",
            "Agreement\n",
            "40/40 [==============================] - 0s 2ms/step\n",
            "355/355 [==============================] - 1s 2ms/step\n",
            "40/40 [==============================] - 0s 2ms/step\n",
            "355/355 [==============================] - 1s 2ms/step\n",
            "40/40 [==============================] - 0s 2ms/step\n",
            "355/355 [==============================] - 1s 2ms/step\n",
            "40/40 [==============================] - 0s 2ms/step\n",
            "355/355 [==============================] - 1s 2ms/step\n",
            "rf_results\n",
            "   ag_train   ag_test  ag_train_auc  ag_test_auc  ci_train   ci_test  \\\n",
            "0  0.565996  0.590542      0.600895     0.645159  0.869895  0.853370   \n",
            "1  0.582894  0.534314      0.609169     0.570577  0.869105  0.860633   \n",
            "2  0.562711  0.639029      0.600969     0.652229  0.867975  0.870852   \n",
            "3  0.548544  0.482835      0.587020     0.635115  0.876004  0.793483   \n",
            "4  0.548364  0.568486      0.588053     0.658065  0.868428  0.866787   \n",
            "5  0.607843  0.499291      0.620398     0.509832  0.866673  0.882379   \n",
            "\n",
            "   ci_train_auc  ci_test_auc  se_train   se_test  se_train_auc  se_test_auc  \n",
            "0      0.769747     0.744241  0.909091  0.886132      0.833333     0.795545  \n",
            "1      0.768511     0.755361  0.910219  0.872417      0.835232     0.773705  \n",
            "2      0.766746     0.771247  0.903514  0.942857      0.824008     0.891892  \n",
            "3      0.779366     0.657665  0.906714  0.917708      0.829348     0.847930  \n",
            "4      0.767452     0.764893  0.905410  0.925641      0.827168     0.861575  \n",
            "5      0.764716     0.789515  0.909880  0.885347      0.834661     0.794281  \n",
            "nn_results\n",
            "   ag_train   ag_test  ag_train_auc  ag_test_auc  ci_train   ci_test  \\\n",
            "0  0.842243  0.851638      0.971073     0.969208  0.943279  0.934071   \n",
            "1  0.885962  0.866062      0.971328     0.960565  0.961328  0.955852   \n",
            "2  0.830969  0.835081      0.970227     0.970157  0.957645  0.955466   \n",
            "3  0.903199  0.908403      0.971008     0.974898  0.950285  0.931491   \n",
            "4  0.812244  0.831421      0.969535     0.968054  0.946481  0.931165   \n",
            "5  0.878771  0.839269      0.969065     0.937048  0.930964  0.930889   \n",
            "\n",
            "   ci_train_auc  ci_test_auc  se_train   se_test  se_train_auc  se_test_auc  \n",
            "0      0.992842     0.986414  0.956694  0.951382      0.996964     0.995089  \n",
            "1      0.993987     0.992277  0.967960  0.944093      0.997590     0.993275  \n",
            "2      0.993560     0.993088  0.964304  0.979377      0.997074     0.998331  \n",
            "3      0.992914     0.987408  0.941851  0.941645      0.997094     0.996533  \n",
            "4      0.993444     0.990509  0.967430  0.973123      0.996647     0.997754  \n",
            "5      0.991618     0.993408  0.952675  0.939351      0.997030     0.995837  \n",
            "mt_results\n",
            "   ag_train   ag_test  ci_train   ci_test  se_train   se_test  ag_train_auc  \\\n",
            "0  0.747132  0.778316  0.907696  0.899466  0.948550  0.948550      0.885117   \n",
            "1  0.758286  0.706278  0.919295  0.924000  0.950679  0.950679      0.894121   \n",
            "2  0.742815  0.770104  0.902949  0.902326  0.947104  0.947104      0.900641   \n",
            "3  0.723770  0.792982  0.924519  0.897510  0.949047  0.949047      0.898531   \n",
            "4  0.799760  0.819259  0.916676  0.908903  0.943348  0.943348      0.890981   \n",
            "5  0.806660  0.751249  0.920106  0.923077  0.947656  0.947656      0.899003   \n",
            "\n",
            "   ag_test_auc  ci_train_auc  ci_test_auc  se_train_auc  se_test_auc  \n",
            "0     0.907953      0.972947     0.961884      0.990173     0.990173  \n",
            "1     0.873029      0.974319     0.969478      0.991515     0.991515  \n",
            "2     0.913391      0.970287     0.974086      0.989685     0.989685  \n",
            "3     0.936722      0.974096     0.963867      0.991400     0.991400  \n",
            "4     0.907206      0.973050     0.972642      0.988585     0.988585  \n",
            "5     0.841887      0.973302     0.975656      0.990144     0.990144  \n",
            "Training random forest...\n",
            "Training multitask...\n",
            "Training single-task NNs...\n",
            "Fold 7 ----------------------\n",
            "Agreement\n",
            "40/40 [==============================] - 0s 2ms/step\n",
            "355/355 [==============================] - 1s 2ms/step\n",
            "40/40 [==============================] - 0s 2ms/step\n",
            "355/355 [==============================] - 1s 2ms/step\n",
            "40/40 [==============================] - 0s 2ms/step\n",
            "355/355 [==============================] - 1s 2ms/step\n",
            "40/40 [==============================] - 0s 2ms/step\n",
            "355/355 [==============================] - 1s 2ms/step\n",
            "rf_results\n",
            "   ag_train   ag_test  ag_train_auc  ag_test_auc  ci_train   ci_test  \\\n",
            "0  0.565996  0.590542      0.600895     0.645159  0.869895  0.853370   \n",
            "1  0.582894  0.534314      0.609169     0.570577  0.869105  0.860633   \n",
            "2  0.562711  0.639029      0.600969     0.652229  0.867975  0.870852   \n",
            "3  0.548544  0.482835      0.587020     0.635115  0.876004  0.793483   \n",
            "4  0.548364  0.568486      0.588053     0.658065  0.868428  0.866787   \n",
            "5  0.607843  0.499291      0.620398     0.509832  0.866673  0.882379   \n",
            "6  0.609278  0.464497      0.619824     0.513844  0.869500  0.857013   \n",
            "\n",
            "   ci_train_auc  ci_test_auc  se_train   se_test  se_train_auc  se_test_auc  \n",
            "0      0.769747     0.744241  0.909091  0.886132      0.833333     0.795545  \n",
            "1      0.768511     0.755361  0.910219  0.872417      0.835232     0.773705  \n",
            "2      0.766746     0.771247  0.903514  0.942857      0.824008     0.891892  \n",
            "3      0.779366     0.657665  0.906714  0.917708      0.829348     0.847930  \n",
            "4      0.767452     0.764893  0.905410  0.925641      0.827168     0.861575  \n",
            "5      0.764716     0.789515  0.909880  0.885347      0.834661     0.794281  \n",
            "6      0.769129     0.749801  0.909906  0.881778      0.834704     0.788553  \n",
            "nn_results\n",
            "   ag_train   ag_test  ag_train_auc  ag_test_auc  ci_train   ci_test  \\\n",
            "0  0.842243  0.851638      0.971073     0.969208  0.943279  0.934071   \n",
            "1  0.885962  0.866062      0.971328     0.960565  0.961328  0.955852   \n",
            "2  0.830969  0.835081      0.970227     0.970157  0.957645  0.955466   \n",
            "3  0.903199  0.908403      0.971008     0.974898  0.950285  0.931491   \n",
            "4  0.812244  0.831421      0.969535     0.968054  0.946481  0.931165   \n",
            "5  0.878771  0.839269      0.969065     0.937048  0.930964  0.930889   \n",
            "6  0.850798  0.822380      0.974126     0.944919  0.951478  0.938753   \n",
            "\n",
            "   ci_train_auc  ci_test_auc  se_train   se_test  se_train_auc  se_test_auc  \n",
            "0      0.992842     0.986414  0.956694  0.951382      0.996964     0.995089  \n",
            "1      0.993987     0.992277  0.967960  0.944093      0.997590     0.993275  \n",
            "2      0.993560     0.993088  0.964304  0.979377      0.997074     0.998331  \n",
            "3      0.992914     0.987408  0.941851  0.941645      0.997094     0.996533  \n",
            "4      0.993444     0.990509  0.967430  0.973123      0.996647     0.997754  \n",
            "5      0.991618     0.993408  0.952675  0.939351      0.997030     0.995837  \n",
            "6      0.993591     0.987537  0.961741  0.945833      0.997275     0.994897  \n",
            "mt_results\n",
            "   ag_train   ag_test  ci_train   ci_test  se_train   se_test  ag_train_auc  \\\n",
            "0  0.747132  0.778316  0.907696  0.899466  0.948550  0.948550      0.885117   \n",
            "1  0.758286  0.706278  0.919295  0.924000  0.950679  0.950679      0.894121   \n",
            "2  0.742815  0.770104  0.902949  0.902326  0.947104  0.947104      0.900641   \n",
            "3  0.723770  0.792982  0.924519  0.897510  0.949047  0.949047      0.898531   \n",
            "4  0.799760  0.819259  0.916676  0.908903  0.943348  0.943348      0.890981   \n",
            "5  0.806660  0.751249  0.920106  0.923077  0.947656  0.947656      0.899003   \n",
            "6  0.653794  0.567294  0.902686  0.881165  0.941430  0.941430      0.910763   \n",
            "\n",
            "   ag_test_auc  ci_train_auc  ci_test_auc  se_train_auc  se_test_auc  \n",
            "0     0.907953      0.972947     0.961884      0.990173     0.990173  \n",
            "1     0.873029      0.974319     0.969478      0.991515     0.991515  \n",
            "2     0.913391      0.970287     0.974086      0.989685     0.989685  \n",
            "3     0.936722      0.974096     0.963867      0.991400     0.991400  \n",
            "4     0.907206      0.973050     0.972642      0.988585     0.988585  \n",
            "5     0.841887      0.973302     0.975656      0.990144     0.990144  \n",
            "6     0.836144      0.974883     0.964687      0.991728     0.991728  \n",
            "Training random forest...\n",
            "Training multitask...\n"
          ]
        }
      ]
    },
    {
      "cell_type": "code",
      "source": [
        "nn_results"
      ],
      "metadata": {
        "colab": {
          "base_uri": "https://localhost:8080/",
          "height": 204
        },
        "id": "KBAU7AUqI-pi",
        "outputId": "2feaa967-69b8-4840-e26e-4d3e14ef6065"
      },
      "execution_count": null,
      "outputs": [
        {
          "output_type": "error",
          "ename": "NameError",
          "evalue": "ignored",
          "traceback": [
            "\u001b[0;31m---------------------------------------------------------------------------\u001b[0m",
            "\u001b[0;31mNameError\u001b[0m                                 Traceback (most recent call last)",
            "\u001b[0;32m<ipython-input-1-256f399e74b5>\u001b[0m in \u001b[0;36m<module>\u001b[0;34m\u001b[0m\n\u001b[0;32m----> 1\u001b[0;31m \u001b[0mnn_results\u001b[0m\u001b[0;34m\u001b[0m\u001b[0;34m\u001b[0m\u001b[0m\n\u001b[0m",
            "\u001b[0;31mNameError\u001b[0m: name 'nn_results' is not defined"
          ]
        }
      ]
    },
    {
      "cell_type": "code",
      "source": [
        "nn_test = {}\n",
        "rf_test = {}\n",
        "mt_test = {}\n",
        "\n",
        "test_pred = rf_ag_best.predict(X_test).round()\n",
        "rf_test['AG'] = f1_score(test_pred, Y_ag_test)\n",
        "test_pred = nn_ag_best.predict(X_test).round()\n",
        "nn_test['AG'] =  f1_score(test_pred, Y_ag_test)\n",
        "test_pred = mt_best.predict(X_test)[:,0].round()\n",
        "mt_test['AG'] = f1_score(test_pred, Y_ag_test) \n",
        "\n",
        "test_pred = rf_ci_best.predict(X_test).round()\n",
        "rf_test['CI'] = f1_score(test_pred, Y_ci_test)\n",
        "test_pred = nn_ci_best.predict(X_test).round()\n",
        "nn_test['CI'] = f1_score(test_pred, Y_ci_test)\n",
        "test_pred = mt_best.predict(X_test)[:,1].round()\n",
        "mt_test['CI'] =  f1_score(test_pred, Y_ci_test)\n",
        "\n",
        "test_pred = rf_ci_best.predict(X_test).round()\n",
        "rf_test['SE'] = f1_score(test_pred, Y_se_test)\n",
        "test_pred = nn_ci_best.predict(X_test).round()\n",
        "nn_test['SE'] = f1_score(test_pred, Y_se_test)\n",
        "test_pred = mt_best.predict(X_test)[:,2].round()\n",
        "mt_test['SE'] = f1_score(test_pred, Y_se_test)"
      ],
      "metadata": {
        "colab": {
          "base_uri": "https://localhost:8080/"
        },
        "id": "y6UJEi1ZWfYo",
        "outputId": "dfcbcc3d-d76b-4b3d-a3fb-029c5e46b204"
      },
      "execution_count": null,
      "outputs": [
        {
          "output_type": "stream",
          "name": "stdout",
          "text": [
            "2/2 [==============================] - 0s 7ms/step\n",
            "2/2 [==============================] - 0s 5ms/step\n",
            "2/2 [==============================] - 0s 5ms/step\n",
            "2/2 [==============================] - 0s 5ms/step\n",
            "2/2 [==============================] - 0s 5ms/step\n",
            "2/2 [==============================] - 0s 5ms/step\n"
          ]
        }
      ]
    },
    {
      "cell_type": "code",
      "source": [
        "with open('final_emb.pickle', 'rb') as f:\n",
        "    full_data = pickle.load(f)"
      ],
      "metadata": {
        "id": "Vl9C1h7JW3i3"
      },
      "execution_count": null,
      "outputs": []
    },
    {
      "cell_type": "code",
      "source": [
        "print(full_data['emb'].shape)\n",
        "print(X.shape)"
      ],
      "metadata": {
        "colab": {
          "base_uri": "https://localhost:8080/"
        },
        "id": "jWV6N3BVYEQ2",
        "outputId": "1d038439-243d-4613-c242-ad6b4ee8e00a"
      },
      "execution_count": null,
      "outputs": [
        {
          "output_type": "stream",
          "name": "stdout",
          "text": [
            "(12590, 2304)\n",
            "(321, 2304)\n"
          ]
        }
      ]
    },
    {
      "cell_type": "code",
      "source": [
        "ag = nn_ag.predict(full_data['emb']).round()\n",
        "ci = nn_ci.predict(full_data['emb']).round()\n",
        "se = nn_se.predict(full_data['emb']).round()"
      ],
      "metadata": {
        "colab": {
          "base_uri": "https://localhost:8080/"
        },
        "id": "RCJmvI6Y6MMg",
        "outputId": "e2a5f72d-389b-489d-fa3e-01736a0f3c87"
      },
      "execution_count": null,
      "outputs": [
        {
          "output_type": "stream",
          "name": "stdout",
          "text": [
            "394/394 [==============================] - 1s 2ms/step\n",
            "394/394 [==============================] - 1s 2ms/step\n",
            "394/394 [==============================] - 1s 2ms/step\n"
          ]
        }
      ]
    },
    {
      "cell_type": "code",
      "source": [
        "out_df = pd.DataFrame()\n",
        "out_df['ind'] = full_data['ind']\n",
        "out_df['ag'] = ag\n",
        "out_df['ci'] = ci\n",
        "out_df['se'] = se"
      ],
      "metadata": {
        "id": "vtQY9lYa6ki6"
      },
      "execution_count": null,
      "outputs": []
    },
    {
      "cell_type": "code",
      "source": [
        "out_df['ag'].sum()"
      ],
      "metadata": {
        "colab": {
          "base_uri": "https://localhost:8080/"
        },
        "id": "VltC6wjy63zS",
        "outputId": "582d00b7-ee04-4eeb-affe-a886b37cf403"
      },
      "execution_count": null,
      "outputs": [
        {
          "output_type": "execute_result",
          "data": {
            "text/plain": [
              "5358.0"
            ]
          },
          "metadata": {},
          "execution_count": 114
        }
      ]
    },
    {
      "cell_type": "code",
      "source": [
        "out_df.to_excel('final_labels.xlsx')"
      ],
      "metadata": {
        "id": "Yzhn-c9MDAns"
      },
      "execution_count": null,
      "outputs": []
    },
    {
      "cell_type": "code",
      "source": [
        "mean_res = results.mean(axis =0)"
      ],
      "metadata": {
        "id": "9XTbeiLMgMs1"
      },
      "execution_count": null,
      "outputs": []
    },
    {
      "cell_type": "code",
      "source": [
        "std_res = results.std(axis = 0)"
      ],
      "metadata": {
        "id": "FOrQzaNlgQuA"
      },
      "execution_count": null,
      "outputs": []
    },
    {
      "cell_type": "code",
      "source": [
        "!pip install matplotlib==3.1.3"
      ],
      "metadata": {
        "colab": {
          "base_uri": "https://localhost:8080/"
        },
        "id": "mAOOCzW5gefR",
        "outputId": "0b3de5ac-26a4-4d33-c1b5-73f972581454"
      },
      "execution_count": null,
      "outputs": [
        {
          "output_type": "stream",
          "name": "stdout",
          "text": [
            "Looking in indexes: https://pypi.org/simple, https://us-python.pkg.dev/colab-wheels/public/simple/\n",
            "Requirement already satisfied: matplotlib==3.1.3 in /usr/local/lib/python3.7/dist-packages (3.1.3)\n",
            "Requirement already satisfied: numpy>=1.11 in /usr/local/lib/python3.7/dist-packages (from matplotlib==3.1.3) (1.21.6)\n",
            "Requirement already satisfied: pyparsing!=2.0.4,!=2.1.2,!=2.1.6,>=2.0.1 in /usr/local/lib/python3.7/dist-packages (from matplotlib==3.1.3) (3.0.9)\n",
            "Requirement already satisfied: python-dateutil>=2.1 in /usr/local/lib/python3.7/dist-packages (from matplotlib==3.1.3) (2.8.2)\n",
            "Requirement already satisfied: kiwisolver>=1.0.1 in /usr/local/lib/python3.7/dist-packages (from matplotlib==3.1.3) (1.4.4)\n",
            "Requirement already satisfied: cycler>=0.10 in /usr/local/lib/python3.7/dist-packages (from matplotlib==3.1.3) (0.11.0)\n",
            "Requirement already satisfied: typing-extensions in /usr/local/lib/python3.7/dist-packages (from kiwisolver>=1.0.1->matplotlib==3.1.3) (4.1.1)\n",
            "Requirement already satisfied: six>=1.5 in /usr/local/lib/python3.7/dist-packages (from python-dateutil>=2.1->matplotlib==3.1.3) (1.15.0)\n"
          ]
        }
      ]
    },
    {
      "cell_type": "code",
      "source": [
        "import matplotlib.pyplot as plt\n",
        "import numpy as np"
      ],
      "metadata": {
        "id": "XB07UVuGgy4_"
      },
      "execution_count": null,
      "outputs": []
    },
    {
      "cell_type": "code",
      "source": [
        "#Random Forest Plot\n",
        "labels = ['Disagreement', 'Civility', 'Serious']\n",
        "train = [rf_results['ag_train'].mean(), rf_results['ci_train'].mean(), rf_results['se_train'].mean()]\n",
        "#test = [rf_results['ag_test'].mean(), rf_results['ci_test'].mean(), rf_results['se_test'].mean()]\n",
        "test = [rf_test['AG'], rf_test['CI'],rf_test['SE']]\n",
        "\n",
        "x = np.arange(len(labels))  # the label locations\n",
        "width = 0.35  # the width of the bars\n",
        "\n",
        "fig, ax = plt.subplots(figsize=(8, 6))\n",
        "rects1 = ax.bar(x - width/2, train, width, label='Train')\n",
        "rects2 = ax.bar(x + width/2, test, width, label='Test')\n",
        "\n",
        "# Add some text for labels, title and custom x-axis tick labels, etc.\n",
        "ax.set_ylabel('F1 Scores')\n",
        "ax.set_ylim(0,1)\n",
        "ax.set_title('F1 Scores Across Different Axes')\n",
        "ax.set_xticks(x, labels)\n",
        "ax.legend()\n",
        "\n",
        "plt.show()"
      ],
      "metadata": {
        "colab": {
          "base_uri": "https://localhost:8080/",
          "height": 428
        },
        "id": "MEsmxZo1eO19",
        "outputId": "62a88270-7839-4829-e34e-279e478ab957"
      },
      "execution_count": null,
      "outputs": [
        {
          "output_type": "stream",
          "name": "stderr",
          "text": [
            "/usr/local/lib/python3.7/dist-packages/ipykernel_launcher.py:18: MatplotlibDeprecationWarning: Passing the minor parameter of set_xticks() positionally is deprecated since Matplotlib 3.2; the parameter will become keyword-only two minor releases later.\n"
          ]
        },
        {
          "output_type": "display_data",
          "data": {
            "text/plain": [
              "<Figure size 576x432 with 1 Axes>"
            ],
            "image/png": "[encoded data removed]"
          },
          "metadata": {
            "needs_background": "light"
          }
        }
      ]
    },
    {
      "cell_type": "code",
      "source": [
        "#NN Plot\n",
        "labels = ['Disagreement', 'Civility', 'Serious']\n",
        "train = [nn_results['ag_train'].mean(), nn_results['ci_train'].mean(), nn_results['se_train'].mean()]\n",
        "#test = [nn_results['ag_test'].mean(), nn_results['ci_test'].mean(), nn_results['se_test'].mean()]\n",
        "test = [nn_test['AG'], nn_test['CI'],nn_test['SE']]\n",
        "\n",
        "x = np.arange(len(labels))  # the label locations\n",
        "width = 0.35  # the width of the bars\n",
        "\n",
        "fig, ax = plt.subplots(figsize=(8, 6))\n",
        "rects1 = ax.bar(x - width/2, train, width, label='Train')\n",
        "rects2 = ax.bar(x + width/2, test, width, label='Test')\n",
        "\n",
        "# Add some text for labels, title and custom x-axis tick labels, etc.\n",
        "ax.set_ylabel('F1 Scores')\n",
        "ax.set_ylim(0,1)\n",
        "ax.set_title('F1 Scores Across Different Axes')\n",
        "ax.set_xticks(x, labels)\n",
        "ax.legend()\n",
        "\n",
        "plt.show()"
      ],
      "metadata": {
        "colab": {
          "base_uri": "https://localhost:8080/",
          "height": 428
        },
        "outputId": "68114ef4-d4ed-4a84-b53a-ca34da5ee541",
        "id": "PMtehVZwhM9l"
      },
      "execution_count": null,
      "outputs": [
        {
          "output_type": "stream",
          "name": "stderr",
          "text": [
            "/usr/local/lib/python3.7/dist-packages/ipykernel_launcher.py:18: MatplotlibDeprecationWarning: Passing the minor parameter of set_xticks() positionally is deprecated since Matplotlib 3.2; the parameter will become keyword-only two minor releases later.\n"
          ]
        },
        {
          "output_type": "display_data",
          "data": {
            "text/plain": [
              "<Figure size 576x432 with 1 Axes>"
            ],
            "image/png": "[encoded data removed]"
          },
          "metadata": {
            "needs_background": "light"
          }
        }
      ]
    },
    {
      "cell_type": "code",
      "source": [
        "#MT Plot\n",
        "labels = ['Disagreement', 'Civility', 'Serious']\n",
        "train = [mt_results['ag_train'].mean(), mt_results['ci_train'].mean(), mt_results['se_train'].mean()]\n",
        "#test = [mt_results['ag_test'].mean(), mt_results['ci_test'].mean(), mt_results['se_test'].mean()]\n",
        "test = [mt_test['AG'], mt_test['CI'],mt_test['SE']]\n",
        "\n",
        "x = np.arange(len(labels))  # the label locations\n",
        "width = 0.35  # the width of the bars\n",
        "\n",
        "fig, ax = plt.subplots(figsize=(8, 6))\n",
        "rects1 = ax.bar(x - width/2, train, width, label='Train')\n",
        "rects2 = ax.bar(x + width/2, test, width, label='Test')\n",
        "\n",
        "# Add some text for labels, title and custom x-axis tick labels, etc.\n",
        "ax.set_ylabel('F1 Scores')\n",
        "ax.set_ylim(0,1)\n",
        "ax.set_title('F1 Scores Across Different Axes')\n",
        "ax.set_xticks(x, labels)\n",
        "ax.legend()\n",
        "\n",
        "plt.show()"
      ],
      "metadata": {
        "colab": {
          "base_uri": "https://localhost:8080/",
          "height": 428
        },
        "outputId": "dc6807ef-7118-4a95-ab12-fdfa64dae0d0",
        "id": "fOGQHYbuhNLW"
      },
      "execution_count": null,
      "outputs": [
        {
          "output_type": "stream",
          "name": "stderr",
          "text": [
            "/usr/local/lib/python3.7/dist-packages/ipykernel_launcher.py:18: MatplotlibDeprecationWarning: Passing the minor parameter of set_xticks() positionally is deprecated since Matplotlib 3.2; the parameter will become keyword-only two minor releases later.\n"
          ]
        },
        {
          "output_type": "display_data",
          "data": {
            "text/plain": [
              "<Figure size 576x432 with 1 Axes>"
            ],
            "image/png": "[encoded data removed]"
          },
          "metadata": {
            "needs_background": "light"
          }
        }
      ]
    },
    {
      "cell_type": "code",
      "source": [
        "print(nn_results['ag_test'].mean(), nn_results['ci_test'].mean(), nn_results['se_test'].mean())\n",
        "mt_results['ag_test'].mean(), mt_results['ci_test'].mean(), mt_results['se_test'].mean()"
      ],
      "metadata": {
        "colab": {
          "base_uri": "https://localhost:8080/"
        },
        "id": "dBwIomnsqihX",
        "outputId": "5adf0776-0adc-4eed-b98d-fa0fb303803b"
      },
      "execution_count": null,
      "outputs": [
        {
          "output_type": "stream",
          "name": "stdout",
          "text": [
            "0.695964343094195 0.8532919356294684 0.8440813662479432\n"
          ]
        },
        {
          "output_type": "execute_result",
          "data": {
            "text/plain": [
              "(0.6591513417932182, 0.8529132018090557, 0.8476557016420688)"
            ]
          },
          "metadata": {},
          "execution_count": 62
        }
      ]
    },
    {
      "cell_type": "markdown",
      "source": [
        "Training ANN"
      ],
      "metadata": {
        "id": "C2u5rMXysdyO"
      }
    },
    {
      "cell_type": "markdown",
      "source": [
        "CLASSIFYING THE REST OF THE DATASET"
      ],
      "metadata": {
        "id": "5PxxdkOoDqgV"
      }
    },
    {
      "cell_type": "code",
      "source": [
        "#get full data\n",
        "full_data = pd.read_excel('final_cleaned_data.xlsx')\n",
        "full_data = full_data.dropna(subset = ['C1', 'C2', 'C3']).reset_index(drop=True)"
      ],
      "metadata": {
        "id": "9fw9CNTcfWHL"
      },
      "execution_count": null,
      "outputs": []
    },
    {
      "cell_type": "code",
      "source": [
        "#Get Embeddings\n",
        "for i in full_data.index:\n",
        "  try:\n",
        "    c1 = tokenizer(full_data.loc[i, 'C1'], return_tensors=\"pt\")\n",
        "    c2 = tokenizer(full_data.loc[i, 'C2'], return_tensors=\"pt\")\n",
        "    c3 = tokenizer(full_data.loc[i, 'C3'], return_tensors=\"pt\")\n",
        "  except:\n",
        "    continue\n",
        "  try:\n",
        "    emb1, emb2, emb3 = model(**c1, output_hidden_states=True)['last_hidden_state'][:,0,:].detach().numpy(), model(**c2, output_hidden_states=True)['last_hidden_state'][:,0,:].detach().numpy(), model(**c3, output_hidden_states=True)['last_hidden_state'][:,0,:].detach().numpy()\n",
        "  except:\n",
        "    continue\n",
        "  chain_emb = np.concatenate([emb1, emb2, emb3], axis = 1)\n",
        "  if i == 0:\n",
        "    X_full = chain_emb\n",
        "    X_id = [i]\n",
        "  else:\n",
        "    X_full = np.concatenate([X_full, chain_emb])\n",
        "    X_id.append(i)\n",
        "  if i %500 == 0:\n",
        "    print(f'Finished {i}')"
      ],
      "metadata": {
        "colab": {
          "base_uri": "https://localhost:8080/"
        },
        "id": "8Kk_NlckL0p3",
        "outputId": "77d9df39-0e7e-4dfd-e26c-d3eaf670303d"
      },
      "execution_count": null,
      "outputs": [
        {
          "output_type": "stream",
          "name": "stdout",
          "text": [
            "Finished 0\n",
            "Finished 500\n"
          ]
        },
        {
          "output_type": "stream",
          "name": "stderr",
          "text": [
            "Token indices sequence length is longer than the specified maximum sequence length for this model (1451 > 512). Running this sequence through the model will result in indexing errors\n"
          ]
        },
        {
          "output_type": "stream",
          "name": "stdout",
          "text": [
            "Finished 1000\n",
            "Finished 1500\n",
            "Finished 2000\n",
            "Finished 2500\n",
            "Finished 3000\n",
            "Finished 3500\n",
            "Finished 4000\n",
            "Finished 4500\n",
            "Finished 5000\n",
            "Finished 5500\n",
            "Finished 6000\n",
            "Finished 6500\n",
            "Finished 7000\n",
            "Finished 7500\n",
            "Finished 8000\n",
            "Finished 8500\n",
            "Finished 9000\n",
            "Finished 9500\n",
            "Finished 10000\n",
            "Finished 10500\n",
            "Finished 11000\n",
            "Finished 11500\n",
            "Finished 12000\n",
            "Finished 12500\n"
          ]
        }
      ]
    },
    {
      "cell_type": "code",
      "source": [
        "import pickle"
      ],
      "metadata": {
        "id": "dGOis8R8fWP-"
      },
      "execution_count": null,
      "outputs": []
    },
    {
      "cell_type": "code",
      "source": [
        "out = {'ind':X_id, 'emb':X_full}"
      ],
      "metadata": {
        "id": "L4k0mGIeMvzc"
      },
      "execution_count": null,
      "outputs": []
    },
    {
      "cell_type": "code",
      "source": [
        "with open('final_emb.pickle', 'wb') as handle:\n",
        "    pickle.dump(out, handle, protocol=pickle.HIGHEST_PROTOCOL)"
      ],
      "metadata": {
        "id": "FpvoNhAzdQvu"
      },
      "execution_count": null,
      "outputs": []
    },
    {
      "cell_type": "code",
      "source": [],
      "metadata": {
        "id": "yhkpz751e2vB"
      },
      "execution_count": null,
      "outputs": []
    }
  ]
}